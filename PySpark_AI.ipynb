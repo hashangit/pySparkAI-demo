{
  "nbformat": 4,
  "nbformat_minor": 0,
  "metadata": {
    "colab": {
      "provenance": [],
      "collapsed_sections": [
        "GpwyAliUEowx"
      ],
      "toc_visible": true,
      "authorship_tag": "ABX9TyPyoRYpao7DYjy4AtnxPZTF",
      "include_colab_link": true
    },
    "kernelspec": {
      "name": "python3",
      "display_name": "Python 3"
    },
    "language_info": {
      "name": "python"
    }
  },
  "cells": [
    {
      "cell_type": "markdown",
      "metadata": {
        "id": "view-in-github",
        "colab_type": "text"
      },
      "source": [
        "<a href=\"https://colab.research.google.com/github/hashangit/pySparkAI-demo/blob/main/PySpark_AI.ipynb\" target=\"_parent\"><img src=\"https://colab.research.google.com/assets/colab-badge.svg\" alt=\"Open In Colab\"/></a>"
      ]
    },
    {
      "cell_type": "markdown",
      "source": [
        "## Installing Python and Pip"
      ],
      "metadata": {
        "id": "GpwyAliUEowx"
      }
    },
    {
      "cell_type": "code",
      "execution_count": null,
      "metadata": {
        "id": "XPvuhmH_CQO5"
      },
      "outputs": [],
      "source": [
        "\n",
        "!sudo apt-get update -y\n",
        "!sudo apt-get install python3.11\n",
        "!sudo update-alternatives --install /usr/bin/python3 python3 /usr/bin/python3.11 1\n",
        "!sudo update-alternatives --install /usr/bin/python3 python3 /usr/bin/python3.10.12 2\n"
      ]
    },
    {
      "cell_type": "code",
      "source": [
        "!python --version"
      ],
      "metadata": {
        "colab": {
          "base_uri": "https://localhost:8080/"
        },
        "id": "faLtIsSJCYlg",
        "outputId": "279e404d-2ae1-4041-8b9b-147b62e80aa5"
      },
      "execution_count": null,
      "outputs": [
        {
          "output_type": "stream",
          "name": "stdout",
          "text": [
            "Python 3.11.8\n"
          ]
        }
      ]
    },
    {
      "cell_type": "code",
      "source": [
        "!curl https://bootstrap.pypa.io/get-pip.py -o get-pip.py\n",
        "!python3 get-pip.py --force-reinstall"
      ],
      "metadata": {
        "colab": {
          "base_uri": "https://localhost:8080/"
        },
        "id": "qV99CNqKEh1J",
        "outputId": "9f8778f9-4ede-4104-99cf-819b89045f2f"
      },
      "execution_count": null,
      "outputs": [
        {
          "output_type": "stream",
          "name": "stdout",
          "text": [
            "  % Total    % Received % Xferd  Average Speed   Time    Time     Time  Current\n",
            "                                 Dload  Upload   Total   Spent    Left  Speed\n",
            "100 2574k  100 2574k    0     0  6589k      0 --:--:-- --:--:-- --:--:-- 6583k\n",
            "Collecting pip\n",
            "  Downloading pip-24.0-py3-none-any.whl.metadata (3.6 kB)\n",
            "Collecting setuptools\n",
            "  Downloading setuptools-69.2.0-py3-none-any.whl.metadata (6.3 kB)\n",
            "Collecting wheel\n",
            "  Downloading wheel-0.43.0-py3-none-any.whl.metadata (2.2 kB)\n",
            "Downloading pip-24.0-py3-none-any.whl (2.1 MB)\n",
            "\u001b[2K   \u001b[90m━━━━━━━━━━━━━━━━━━━━━━━━━━━━━━━━━━━━━━━━\u001b[0m \u001b[32m2.1/2.1 MB\u001b[0m \u001b[31m4.5 MB/s\u001b[0m eta \u001b[36m0:00:00\u001b[0m\n",
            "\u001b[?25hDownloading setuptools-69.2.0-py3-none-any.whl (821 kB)\n",
            "\u001b[2K   \u001b[90m━━━━━━━━━━━━━━━━━━━━━━━━━━━━━━━━━━━━━━━━\u001b[0m \u001b[32m821.5/821.5 kB\u001b[0m \u001b[31m2.4 MB/s\u001b[0m eta \u001b[36m0:00:00\u001b[0m\n",
            "\u001b[?25hDownloading wheel-0.43.0-py3-none-any.whl (65 kB)\n",
            "\u001b[2K   \u001b[90m━━━━━━━━━━━━━━━━━━━━━━━━━━━━━━━━━━━━━━━━\u001b[0m \u001b[32m65.8/65.8 kB\u001b[0m \u001b[31m1.1 MB/s\u001b[0m eta \u001b[36m0:00:00\u001b[0m\n",
            "\u001b[?25hInstalling collected packages: wheel, setuptools, pip\n",
            "Successfully installed pip-24.0 setuptools-69.2.0 wheel-0.43.0\n",
            "\u001b[33mWARNING: Running pip as the 'root' user can result in broken permissions and conflicting behaviour with the system package manager. It is recommended to use a virtual environment instead: https://pip.pypa.io/warnings/venv\u001b[0m\u001b[33m\n",
            "\u001b[0m"
          ]
        }
      ]
    },
    {
      "cell_type": "markdown",
      "source": [
        "## Installing Packages"
      ],
      "metadata": {
        "id": "dF7JJxbXGZWZ"
      }
    },
    {
      "cell_type": "code",
      "source": [
        "!pip install pyspark pyarrow pyspark-ai openai langchain langchain-openai"
      ],
      "metadata": {
        "colab": {
          "base_uri": "https://localhost:8080/"
        },
        "id": "kUklcORnDCFC",
        "outputId": "b1a03770-de36-4b2e-db26-b01d8e717840"
      },
      "execution_count": 3,
      "outputs": [
        {
          "output_type": "stream",
          "name": "stdout",
          "text": [
            "Requirement already satisfied: pyspark in /usr/local/lib/python3.10/dist-packages (3.5.1)\n",
            "Requirement already satisfied: pyarrow in /usr/local/lib/python3.10/dist-packages (14.0.2)\n",
            "Requirement already satisfied: pyspark-ai in /usr/local/lib/python3.10/dist-packages (0.1.21)\n",
            "Requirement already satisfied: openai in /usr/local/lib/python3.10/dist-packages (1.14.3)\n",
            "Requirement already satisfied: langchain in /usr/local/lib/python3.10/dist-packages (0.1.13)\n",
            "Collecting langchain-openai\n",
            "  Downloading langchain_openai-0.1.1-py3-none-any.whl (32 kB)\n",
            "Requirement already satisfied: py4j==0.10.9.7 in /usr/local/lib/python3.10/dist-packages (from pyspark) (0.10.9.7)\n",
            "Requirement already satisfied: numpy>=1.16.6 in /usr/local/lib/python3.10/dist-packages (from pyarrow) (1.25.2)\n",
            "Requirement already satisfied: langchain-community<0.1,>=0.0 in /usr/local/lib/python3.10/dist-packages (from pyspark-ai) (0.0.29)\n",
            "Requirement already satisfied: pydantic<2.0,>=1.10 in /usr/local/lib/python3.10/dist-packages (from pyspark-ai) (1.10.14)\n",
            "Requirement already satisfied: pygments<3.0,>=2.15 in /usr/local/lib/python3.10/dist-packages (from pyspark-ai) (2.16.1)\n",
            "Requirement already satisfied: anyio<5,>=3.5.0 in /usr/local/lib/python3.10/dist-packages (from openai) (3.7.1)\n",
            "Requirement already satisfied: distro<2,>=1.7.0 in /usr/lib/python3/dist-packages (from openai) (1.7.0)\n",
            "Requirement already satisfied: httpx<1,>=0.23.0 in /usr/local/lib/python3.10/dist-packages (from openai) (0.27.0)\n",
            "Requirement already satisfied: sniffio in /usr/local/lib/python3.10/dist-packages (from openai) (1.3.1)\n",
            "Requirement already satisfied: tqdm>4 in /usr/local/lib/python3.10/dist-packages (from openai) (4.66.2)\n",
            "Requirement already satisfied: typing-extensions<5,>=4.7 in /usr/local/lib/python3.10/dist-packages (from openai) (4.10.0)\n",
            "Requirement already satisfied: PyYAML>=5.3 in /usr/local/lib/python3.10/dist-packages (from langchain) (6.0.1)\n",
            "Requirement already satisfied: SQLAlchemy<3,>=1.4 in /usr/local/lib/python3.10/dist-packages (from langchain) (2.0.28)\n",
            "Requirement already satisfied: aiohttp<4.0.0,>=3.8.3 in /usr/local/lib/python3.10/dist-packages (from langchain) (3.9.3)\n",
            "Requirement already satisfied: async-timeout<5.0.0,>=4.0.0 in /usr/local/lib/python3.10/dist-packages (from langchain) (4.0.3)\n",
            "Requirement already satisfied: dataclasses-json<0.7,>=0.5.7 in /usr/local/lib/python3.10/dist-packages (from langchain) (0.6.4)\n",
            "Requirement already satisfied: jsonpatch<2.0,>=1.33 in /usr/local/lib/python3.10/dist-packages (from langchain) (1.33)\n",
            "Requirement already satisfied: langchain-core<0.2.0,>=0.1.33 in /usr/local/lib/python3.10/dist-packages (from langchain) (0.1.33)\n",
            "Requirement already satisfied: langchain-text-splitters<0.1,>=0.0.1 in /usr/local/lib/python3.10/dist-packages (from langchain) (0.0.1)\n",
            "Requirement already satisfied: langsmith<0.2.0,>=0.1.17 in /usr/local/lib/python3.10/dist-packages (from langchain) (0.1.31)\n",
            "Requirement already satisfied: requests<3,>=2 in /usr/local/lib/python3.10/dist-packages (from langchain) (2.31.0)\n",
            "Requirement already satisfied: tenacity<9.0.0,>=8.1.0 in /usr/local/lib/python3.10/dist-packages (from langchain) (8.2.3)\n",
            "Collecting tiktoken<1,>=0.5.2 (from langchain-openai)\n",
            "  Downloading tiktoken-0.6.0-cp310-cp310-manylinux_2_17_x86_64.manylinux2014_x86_64.whl (1.8 MB)\n",
            "\u001b[2K     \u001b[90m━━━━━━━━━━━━━━━━━━━━━━━━━━━━━━━━━━━━━━━━\u001b[0m \u001b[32m1.8/1.8 MB\u001b[0m \u001b[31m19.6 MB/s\u001b[0m eta \u001b[36m0:00:00\u001b[0m\n",
            "\u001b[?25hRequirement already satisfied: aiosignal>=1.1.2 in /usr/local/lib/python3.10/dist-packages (from aiohttp<4.0.0,>=3.8.3->langchain) (1.3.1)\n",
            "Requirement already satisfied: attrs>=17.3.0 in /usr/local/lib/python3.10/dist-packages (from aiohttp<4.0.0,>=3.8.3->langchain) (23.2.0)\n",
            "Requirement already satisfied: frozenlist>=1.1.1 in /usr/local/lib/python3.10/dist-packages (from aiohttp<4.0.0,>=3.8.3->langchain) (1.4.1)\n",
            "Requirement already satisfied: multidict<7.0,>=4.5 in /usr/local/lib/python3.10/dist-packages (from aiohttp<4.0.0,>=3.8.3->langchain) (6.0.5)\n",
            "Requirement already satisfied: yarl<2.0,>=1.0 in /usr/local/lib/python3.10/dist-packages (from aiohttp<4.0.0,>=3.8.3->langchain) (1.9.4)\n",
            "Requirement already satisfied: idna>=2.8 in /usr/local/lib/python3.10/dist-packages (from anyio<5,>=3.5.0->openai) (3.6)\n",
            "Requirement already satisfied: exceptiongroup in /usr/local/lib/python3.10/dist-packages (from anyio<5,>=3.5.0->openai) (1.2.0)\n",
            "Requirement already satisfied: marshmallow<4.0.0,>=3.18.0 in /usr/local/lib/python3.10/dist-packages (from dataclasses-json<0.7,>=0.5.7->langchain) (3.21.1)\n",
            "Requirement already satisfied: typing-inspect<1,>=0.4.0 in /usr/local/lib/python3.10/dist-packages (from dataclasses-json<0.7,>=0.5.7->langchain) (0.9.0)\n",
            "Requirement already satisfied: certifi in /usr/local/lib/python3.10/dist-packages (from httpx<1,>=0.23.0->openai) (2024.2.2)\n",
            "Requirement already satisfied: httpcore==1.* in /usr/local/lib/python3.10/dist-packages (from httpx<1,>=0.23.0->openai) (1.0.4)\n",
            "Requirement already satisfied: h11<0.15,>=0.13 in /usr/local/lib/python3.10/dist-packages (from httpcore==1.*->httpx<1,>=0.23.0->openai) (0.14.0)\n",
            "Requirement already satisfied: jsonpointer>=1.9 in /usr/local/lib/python3.10/dist-packages (from jsonpatch<2.0,>=1.33->langchain) (2.4)\n",
            "Requirement already satisfied: packaging<24.0,>=23.2 in /usr/local/lib/python3.10/dist-packages (from langchain-core<0.2.0,>=0.1.33->langchain) (23.2)\n",
            "Requirement already satisfied: orjson<4.0.0,>=3.9.14 in /usr/local/lib/python3.10/dist-packages (from langsmith<0.2.0,>=0.1.17->langchain) (3.9.15)\n",
            "Requirement already satisfied: charset-normalizer<4,>=2 in /usr/local/lib/python3.10/dist-packages (from requests<3,>=2->langchain) (3.3.2)\n",
            "Requirement already satisfied: urllib3<3,>=1.21.1 in /usr/local/lib/python3.10/dist-packages (from requests<3,>=2->langchain) (2.0.7)\n",
            "Requirement already satisfied: greenlet!=0.4.17 in /usr/local/lib/python3.10/dist-packages (from SQLAlchemy<3,>=1.4->langchain) (3.0.3)\n",
            "Requirement already satisfied: regex>=2022.1.18 in /usr/local/lib/python3.10/dist-packages (from tiktoken<1,>=0.5.2->langchain-openai) (2023.12.25)\n",
            "Requirement already satisfied: mypy-extensions>=0.3.0 in /usr/local/lib/python3.10/dist-packages (from typing-inspect<1,>=0.4.0->dataclasses-json<0.7,>=0.5.7->langchain) (1.0.0)\n",
            "Installing collected packages: tiktoken, langchain-openai\n",
            "Successfully installed langchain-openai-0.1.1 tiktoken-0.6.0\n"
          ]
        }
      ]
    },
    {
      "cell_type": "markdown",
      "source": [
        "## Secrets"
      ],
      "metadata": {
        "id": "NJ0Wa82hFNl5"
      }
    },
    {
      "cell_type": "code",
      "source": [
        "from google.colab import userdata\n",
        "userdata.get('OPENAI_API_KEY')"
      ],
      "metadata": {
        "id": "WZL39THmDdE2"
      },
      "execution_count": null,
      "outputs": []
    },
    {
      "cell_type": "markdown",
      "source": [
        "## Initiate PySparkAI"
      ],
      "metadata": {
        "id": "R3e9cKnJHV6z"
      }
    },
    {
      "cell_type": "code",
      "source": [
        "import openai\n",
        "from langchain_openai import ChatOpenAI\n",
        "from pyspark_ai import SparkAI\n",
        "from pyspark.sql import SparkSession\n",
        "from google.colab import userdata\n",
        "import os\n",
        "\n",
        "model = \"gpt-4-0125-preview\"\n",
        "# model=\"gpt-3.5-turbo-0125\"\n",
        "\n",
        "os.environ[\"OPENAI_API_KEY\"] = userdata.get('OPENAI_API_KEY')\n",
        "llm = ChatOpenAI(model=model, temperature=0)\n",
        "sparkai = SparkAI(llm=llm, verbose=True)\n",
        "sparkai.activate()"
      ],
      "metadata": {
        "id": "-Sf7vzViHVNC"
      },
      "execution_count": 15,
      "outputs": []
    },
    {
      "cell_type": "markdown",
      "source": [
        "## Creating the df"
      ],
      "metadata": {
        "id": "DAoSF-WzLeeD"
      }
    },
    {
      "cell_type": "code",
      "source": [
        "link = \"https://docs.google.com/spreadsheets/d/1VbUa5AvOBgArjoigeuZbptKKoqpKKB5WPgcV77AYAIg/edit#gid=1630247784\"\n",
        "#link = \"https://docs.google.com/spreadsheets/d/17-oqBiI2hVAQZ58NzvhqKM0QnAOFF2lbZRnTxHG7UFI/edit#gid=1637711490\"\n",
        "\n",
        "auto_df = sparkai.create_df(link)\n",
        "auto_df.show(5)"
      ],
      "metadata": {
        "colab": {
          "base_uri": "https://localhost:8080/"
        },
        "id": "uKiyHAyjKKWS",
        "outputId": "54027945-0e51-47dc-c02e-a1461c5f2c28"
      },
      "execution_count": 26,
      "outputs": [
        {
          "output_type": "stream",
          "name": "stdout",
          "text": [
            "\u001b[92mINFO: \u001b[0mParsing URL: https://docs.google.com/spreadsheets/d/1VbUa5AvOBgArjoigeuZbptKKoqpKKB5WPgcV77AYAIg/edit#gid=1630247784\n",
            "\n"
          ]
        },
        {
          "output_type": "stream",
          "name": "stderr",
          "text": [
            "INFO:spark_ai:Parsing URL: https://docs.google.com/spreadsheets/d/1VbUa5AvOBgArjoigeuZbptKKoqpKKB5WPgcV77AYAIg/edit#gid=1630247784\n",
            "\n"
          ]
        },
        {
          "output_type": "stream",
          "name": "stdout",
          "text": [
            "\u001b[92mINFO: \u001b[0mSQL query for the ingestion:\n",
            "\u001b[34mCREATE\u001b[39;49;00m\u001b[37m \u001b[39;49;00m\u001b[34mOR\u001b[39;49;00m\u001b[37m \u001b[39;49;00m\u001b[34mREPLACE\u001b[39;49;00m\u001b[37m \u001b[39;49;00mTEMP\u001b[37m \u001b[39;49;00m\u001b[34mVIEW\u001b[39;49;00m\u001b[37m \u001b[39;49;00mspark_ai_temp_view_120683\u001b[37m \u001b[39;49;00m\u001b[34mAS\u001b[39;49;00m\u001b[37m \u001b[39;49;00m\n",
            "\u001b[34mSELECT\u001b[39;49;00m\u001b[37m \u001b[39;49;00m*\u001b[37m \u001b[39;49;00m\u001b[34mFROM\u001b[39;49;00m\u001b[37m \u001b[39;49;00m\u001b[34mVALUES\u001b[39;49;00m\u001b[37m\u001b[39;49;00m\n",
            "(\u001b[33m'https://creately.com/'\u001b[39;49;00m,\u001b[37m \u001b[39;49;00m\u001b[33m'SEARCH-BRAND-EN-2023-US'\u001b[39;49;00m,\u001b[37m \u001b[39;49;00m\u001b[33m'Brand-US'\u001b[39;49;00m,\u001b[37m \u001b[39;49;00m\u001b[34m441\u001b[39;49;00m,\u001b[37m \u001b[39;49;00m\u001b[34m876\u001b[39;49;00m,\u001b[37m \u001b[39;49;00m\u001b[34m50\u001b[39;49;00m.\u001b[34m34\u001b[39;49;00m,\u001b[37m \u001b[39;49;00m\u001b[33m'USD'\u001b[39;49;00m,\u001b[37m \u001b[39;49;00m\u001b[34m0\u001b[39;49;00m.\u001b[34m24\u001b[39;49;00m,\u001b[37m \u001b[39;49;00m\u001b[34m105\u001b[39;49;00m.\u001b[34m68\u001b[39;49;00m,\u001b[37m \u001b[39;49;00m\u001b[34m13\u001b[39;49;00m,\u001b[37m \u001b[39;49;00m\u001b[34m8\u001b[39;49;00m.\u001b[34m37\u001b[39;49;00m),\u001b[37m\u001b[39;49;00m\n",
            "(\u001b[33m'https://creately.com/'\u001b[39;49;00m,\u001b[37m \u001b[39;49;00m\u001b[33m'SEARCH-BRAND-EN-2023-WW'\u001b[39;49;00m,\u001b[37m \u001b[39;49;00m\u001b[33m'Brand-WW'\u001b[39;49;00m,\u001b[37m \u001b[39;49;00m\u001b[34m1450\u001b[39;49;00m,\u001b[37m \u001b[39;49;00m\u001b[34m2708\u001b[39;49;00m,\u001b[37m \u001b[39;49;00m\u001b[34m53\u001b[39;49;00m.\u001b[34m55\u001b[39;49;00m,\u001b[37m \u001b[39;49;00m\u001b[33m'USD'\u001b[39;49;00m,\u001b[37m \u001b[39;49;00m\u001b[34m0\u001b[39;49;00m.\u001b[34m045\u001b[39;49;00m,\u001b[37m \u001b[39;49;00m\u001b[34m7\u001b[39;49;00m.\u001b[34m24\u001b[39;49;00m,\u001b[37m \u001b[39;49;00m\u001b[34m10\u001b[39;49;00m,\u001b[37m \u001b[39;49;00m\u001b[34m5\u001b[39;49;00m.\u001b[34m45\u001b[39;49;00m),\u001b[37m\u001b[39;49;00m\n",
            "(\u001b[33m'https://creately.com/ar/lp/%D8%A8%D8%B1%D9%86%D8%A7%D9%85%D8%AC-%D8%A5%D9%86%D8%B4%D8%A7%D8%A1-%D8%A7%D9%84%D9%85%D8%AE%D8%B7%D8%B7%D8%A7%D8%AA-%D8%A7%D9%84%D8%AA%D9%86%D8%B8%D9%8A%D9%85%D9%8A%D8%A9/'\u001b[39;49;00m,\u001b[37m \u001b[39;49;00m\u001b[33m'SEARCH-GEN-OrgChart-MiddleEast-AR-#2'\u001b[39;49;00m,\u001b[37m \u001b[39;49;00m\u001b[33m'Advanced and Interactive Features'\u001b[39;49;00m,\u001b[37m \u001b[39;49;00m\u001b[34m645\u001b[39;49;00m,\u001b[37m \u001b[39;49;00m\u001b[34m91\u001b[39;49;00m,\u001b[37m \u001b[39;49;00m\u001b[34m1\u001b[39;49;00m.\u001b[34m31\u001b[39;49;00m,\u001b[37m \u001b[39;49;00m\u001b[33m'USD'\u001b[39;49;00m,\u001b[37m \u001b[39;49;00m\u001b[34m0\u001b[39;49;00m.\u001b[34m12\u001b[39;49;00m,\u001b[37m \u001b[39;49;00m\u001b[34m0\u001b[39;49;00m.\u001b[34m69\u001b[39;49;00m,\u001b[37m \u001b[39;49;00m\u001b[34m0\u001b[39;49;00m,\u001b[37m \u001b[39;49;00m\u001b[34m0\u001b[39;49;00m),\u001b[37m\u001b[39;49;00m\n",
            "(\u001b[33m'https://creately.com/ar/lp/%D8%A8%D8%B1%D9%86%D8%A7%D9%85%D8%AC-%D8%A5%D9%86%D8%B4%D8%A7%D8%A1-%D8%A7%D9%84%D9%85%D8%AE%D8%B7%D8%B7%D8%A7%D8%AA-%D8%A7%D9%84%D8%AA%D9%86%D8%B8%D9%8A%D9%85%D9%8A%D8%A9/'\u001b[39;49;00m,\u001b[37m \u001b[39;49;00m\u001b[33m'SEARCH-GEN-OrgChart-MiddleEast-AR-#2'\u001b[39;49;00m,\u001b[37m \u001b[39;49;00m\u001b[33m'Basic Org Chart Creation'\u001b[39;49;00m,\u001b[37m \u001b[39;49;00m\u001b[34m1665\u001b[39;49;00m,\u001b[37m \u001b[39;49;00m\u001b[34m12\u001b[39;49;00m,\u001b[37m \u001b[39;49;00m\u001b[34m2\u001b[39;49;00m.\u001b[34m46\u001b[39;49;00m,\u001b[37m \u001b[39;49;00m\u001b[33m'USD'\u001b[39;49;00m,\u001b[37m \u001b[39;49;00m\u001b[34m0\u001b[39;49;00m.\u001b[34m07\u001b[39;49;00m,\u001b[37m \u001b[39;49;00m\u001b[34m1\u001b[39;49;00m.\u001b[34m15\u001b[39;49;00m,\u001b[37m \u001b[39;49;00m\u001b[34m0\u001b[39;49;00m,\u001b[37m \u001b[39;49;00m\u001b[34m0\u001b[39;49;00m),\u001b[37m\u001b[39;49;00m\n",
            "(\u001b[33m'https://creately.com/ar/lp/%D8%A8%D8%B1%D9%86%D8%A7%D9%85%D8%AC-%D8%A5%D9%86%D8%B4%D8%A7%D8%A1-%D8%A7%D9%84%D9%85%D8%AE%D8%B7%D8%B7%D8%A7%D8%AA-%D8%A7%D9%84%D8%AA%D9%86%D8%B8%D9%8A%D9%85%D9%8A%D8%A9/'\u001b[39;49;00m,\u001b[37m \u001b[39;49;00m\u001b[33m'SEARCH-GEN-OrgChart-MiddleEast-AR-#2'\u001b[39;49;00m,\u001b[37m \u001b[39;49;00m\u001b[33m'Cloud and Collaboration'\u001b[39;49;00m,\u001b[37m \u001b[39;49;00m\u001b[34m1546\u001b[39;49;00m,\u001b[37m \u001b[39;49;00m\u001b[34m33\u001b[39;49;00m,\u001b[37m \u001b[39;49;00m\u001b[34m3\u001b[39;49;00m.\u001b[34m24\u001b[39;49;00m,\u001b[37m \u001b[39;49;00m\u001b[33m'USD'\u001b[39;49;00m,\u001b[37m \u001b[39;49;00m\u001b[34m0\u001b[39;49;00m.\u001b[34m23\u001b[39;49;00m,\u001b[37m \u001b[39;49;00m\u001b[34m3\u001b[39;49;00m.\u001b[34m43\u001b[39;49;00m,\u001b[37m \u001b[39;49;00m\u001b[34m0\u001b[39;49;00m,\u001b[37m \u001b[39;49;00m\u001b[34m0\u001b[39;49;00m),\u001b[37m\u001b[39;49;00m\n",
            "(\u001b[33m'https://creately.com/ar/lp/%D8%A8%D8%B1%D9%86%D8%A7%D9%85%D8%AC-%D8%A5%D9%86%D8%B4%D8%A7%D8%A1-%D8%A7%D9%84%D9%85%D8%AE%D8%B7%D8%B7%D8%A7%D8%AA-%D8%A7%D9%84%D8%AA%D9%86%D8%B8%D9%8A%D9%85%D9%8A%D8%A9/'\u001b[39;49;00m,\u001b[37m \u001b[39;49;00m\u001b[33m'SEARCH-GEN-OrgChart-MiddleEast-AR-#2'\u001b[39;49;00m,\u001b[37m \u001b[39;49;00m\u001b[33m'Company Specific and PowerPoint Integration'\u001b[39;49;00m,\u001b[37m \u001b[39;49;00m\u001b[34m753\u001b[39;49;00m,\u001b[37m \u001b[39;49;00m\u001b[34m51\u001b[39;49;00m,\u001b[37m \u001b[39;49;00m\u001b[34m1\u001b[39;49;00m.\u001b[34m31\u001b[39;49;00m,\u001b[37m \u001b[39;49;00m\u001b[33m'USD'\u001b[39;49;00m,\u001b[37m \u001b[39;49;00m\u001b[34m0\u001b[39;49;00m.\u001b[34m25\u001b[39;49;00m,\u001b[37m \u001b[39;49;00m\u001b[34m1\u001b[39;49;00m.\u001b[34m75\u001b[39;49;00m,\u001b[37m \u001b[39;49;00m\u001b[34m0\u001b[39;49;00m,\u001b[37m \u001b[39;49;00m\u001b[34m0\u001b[39;49;00m),\u001b[37m\u001b[39;49;00m\n",
            "(\u001b[33m'https://creately.com/ar/lp/%D8%A8%D8%B1%D9%86%D8%A7%D9%85%D8%AC-%D8%A5%D9%86%D8%B4%D8%A7%D8%A1-%D8%A7%D9%84%D9%85%D8%AE%D8%B7%D8%B7%D8%A7%D8%AA-%D8%A7%D9%84%D8%AA%D9%86%D8%B8%D9%8A%D9%85%D9%8A%D8%A9/'\u001b[39;49;00m,\u001b[37m \u001b[39;49;00m\u001b[33m'SEARCH-GEN-OrgChart-MiddleEast-AR-#2'\u001b[39;49;00m,\u001b[37m \u001b[39;49;00m\u001b[33m'Free and Template Options'\u001b[39;49;00m,\u001b[37m \u001b[39;49;00m\u001b[34m860\u001b[39;49;00m,\u001b[37m \u001b[39;49;00m\u001b[34m61\u001b[39;49;00m,\u001b[37m \u001b[39;49;00m\u001b[34m1\u001b[39;49;00m.\u001b[34m32\u001b[39;49;00m,\u001b[37m \u001b[39;49;00m\u001b[33m'USD'\u001b[39;49;00m,\u001b[37m \u001b[39;49;00m\u001b[34m0\u001b[39;49;00m.\u001b[34m25\u001b[39;49;00m,\u001b[37m \u001b[39;49;00m\u001b[34m2\u001b[39;49;00m,\u001b[37m \u001b[39;49;00m\u001b[34m0\u001b[39;49;00m,\u001b[37m \u001b[39;49;00m\u001b[34m0\u001b[39;49;00m),\u001b[37m\u001b[39;49;00m\n",
            "(\u001b[33m'https://creately.com/ar/lp/%D8%A8%D8%B1%D9%86%D8%A7%D9%85%D8%AC-%D8%A5%D9%86%D8%B4%D8%A7%D8%A1-%D8%A7%D9%84%D9%85%D8%AE%D8%B7%D8%B7%D8%A7%D8%AA-%D8%A7%D9%84%D8%AA%D9%86%D8%B8%D9%8A%D9%85%D9%8A%D8%A9/'\u001b[39;49;00m,\u001b[37m \u001b[39;49;00m\u001b[33m'SEARCH-GEN-OrgChart-MiddleEast-AR-#2'\u001b[39;49;00m,\u001b[37m \u001b[39;49;00m\u001b[33m'Niche and Low-Volume Searches'\u001b[39;49;00m,\u001b[37m \u001b[39;49;00m\u001b[34m1045\u001b[39;49;00m,\u001b[37m \u001b[39;49;00m\u001b[34m72\u001b[39;49;00m,\u001b[37m \u001b[39;49;00m\u001b[34m2\u001b[39;49;00m.\u001b[34m19\u001b[39;49;00m,\u001b[37m \u001b[39;49;00m\u001b[33m'USD'\u001b[39;49;00m,\u001b[37m \u001b[39;49;00m\u001b[34m0\u001b[39;49;00m.\u001b[34m09\u001b[39;49;00m,\u001b[37m \u001b[39;49;00m\u001b[34m0\u001b[39;49;00m.\u001b[34m93\u001b[39;49;00m,\u001b[37m \u001b[39;49;00m\u001b[34m0\u001b[39;49;00m,\u001b[37m \u001b[39;49;00m\u001b[34m0\u001b[39;49;00m),\u001b[37m\u001b[39;49;00m\n",
            "(\u001b[33m'https://creately.com/ar/lp/%D8%A8%D8%B1%D9%86%D8%A7%D9%85%D8%AC-%D8%A5%D9%86%D8%B4%D8%A7%D8%A1-%D8%A7%D9%84%D9%85%D8%AE%D8%B7%D8%B7%D8%A7%D8%AA-%D8%A7%D9%84%D8%AA%D9%86%D8%B8%D9%8A%D9%85%D9%8A%D8%A9/'\u001b[39;49;00m,\u001b[37m \u001b[39;49;00m\u001b[33m'SEARCH-GEN-OrgChart-MiddleEast-AR-#2'\u001b[39;49;00m,\u001b[37m \u001b[39;49;00m\u001b[33m'Specific Software - Lucidchart'\u001b[39;49;00m,\u001b[37m \u001b[39;49;00m\u001b[34m546\u001b[39;49;00m,\u001b[37m \u001b[39;49;00m\u001b[34m41\u001b[39;49;00m,\u001b[37m \u001b[39;49;00m\u001b[34m1\u001b[39;49;00m.\u001b[34m08\u001b[39;49;00m,\u001b[37m \u001b[39;49;00m\u001b[33m'USD'\u001b[39;49;00m,\u001b[37m \u001b[39;49;00m\u001b[34m0\u001b[39;49;00m.\u001b[34m3\u001b[39;49;00m,\u001b[37m \u001b[39;49;00m\u001b[34m1\u001b[39;49;00m.\u001b[34m5\u001b[39;49;00m,\u001b[37m \u001b[39;49;00m\u001b[34m0\u001b[39;49;00m,\u001b[37m \u001b[39;49;00m\u001b[34m0\u001b[39;49;00m)\u001b[37m\u001b[39;49;00m\n",
            "\u001b[34mAS\u001b[39;49;00m\u001b[37m \u001b[39;49;00mv1(landing_page,\u001b[37m \u001b[39;49;00mcampaign,\u001b[37m \u001b[39;49;00mad_group,\u001b[37m \u001b[39;49;00mclicks,\u001b[37m \u001b[39;49;00mimpressions,\u001b[37m \u001b[39;49;00mclick_through_rate,\u001b[37m \u001b[39;49;00mcurrency_code,\u001b[37m \u001b[39;49;00maverage_cost_per_click,\u001b[37m \u001b[39;49;00mcost,\u001b[37m \u001b[39;49;00mconversions,\u001b[37m \u001b[39;49;00mcost_per_conversion)\u001b[37m\u001b[39;49;00m\n",
            "\n"
          ]
        },
        {
          "output_type": "stream",
          "name": "stderr",
          "text": [
            "INFO:spark_ai:SQL query for the ingestion:\n",
            "\u001b[34mCREATE\u001b[39;49;00m\u001b[37m \u001b[39;49;00m\u001b[34mOR\u001b[39;49;00m\u001b[37m \u001b[39;49;00m\u001b[34mREPLACE\u001b[39;49;00m\u001b[37m \u001b[39;49;00mTEMP\u001b[37m \u001b[39;49;00m\u001b[34mVIEW\u001b[39;49;00m\u001b[37m \u001b[39;49;00mspark_ai_temp_view_120683\u001b[37m \u001b[39;49;00m\u001b[34mAS\u001b[39;49;00m\u001b[37m \u001b[39;49;00m\n",
            "\u001b[34mSELECT\u001b[39;49;00m\u001b[37m \u001b[39;49;00m*\u001b[37m \u001b[39;49;00m\u001b[34mFROM\u001b[39;49;00m\u001b[37m \u001b[39;49;00m\u001b[34mVALUES\u001b[39;49;00m\u001b[37m\u001b[39;49;00m\n",
            "(\u001b[33m'https://creately.com/'\u001b[39;49;00m,\u001b[37m \u001b[39;49;00m\u001b[33m'SEARCH-BRAND-EN-2023-US'\u001b[39;49;00m,\u001b[37m \u001b[39;49;00m\u001b[33m'Brand-US'\u001b[39;49;00m,\u001b[37m \u001b[39;49;00m\u001b[34m441\u001b[39;49;00m,\u001b[37m \u001b[39;49;00m\u001b[34m876\u001b[39;49;00m,\u001b[37m \u001b[39;49;00m\u001b[34m50\u001b[39;49;00m.\u001b[34m34\u001b[39;49;00m,\u001b[37m \u001b[39;49;00m\u001b[33m'USD'\u001b[39;49;00m,\u001b[37m \u001b[39;49;00m\u001b[34m0\u001b[39;49;00m.\u001b[34m24\u001b[39;49;00m,\u001b[37m \u001b[39;49;00m\u001b[34m105\u001b[39;49;00m.\u001b[34m68\u001b[39;49;00m,\u001b[37m \u001b[39;49;00m\u001b[34m13\u001b[39;49;00m,\u001b[37m \u001b[39;49;00m\u001b[34m8\u001b[39;49;00m.\u001b[34m37\u001b[39;49;00m),\u001b[37m\u001b[39;49;00m\n",
            "(\u001b[33m'https://creately.com/'\u001b[39;49;00m,\u001b[37m \u001b[39;49;00m\u001b[33m'SEARCH-BRAND-EN-2023-WW'\u001b[39;49;00m,\u001b[37m \u001b[39;49;00m\u001b[33m'Brand-WW'\u001b[39;49;00m,\u001b[37m \u001b[39;49;00m\u001b[34m1450\u001b[39;49;00m,\u001b[37m \u001b[39;49;00m\u001b[34m2708\u001b[39;49;00m,\u001b[37m \u001b[39;49;00m\u001b[34m53\u001b[39;49;00m.\u001b[34m55\u001b[39;49;00m,\u001b[37m \u001b[39;49;00m\u001b[33m'USD'\u001b[39;49;00m,\u001b[37m \u001b[39;49;00m\u001b[34m0\u001b[39;49;00m.\u001b[34m045\u001b[39;49;00m,\u001b[37m \u001b[39;49;00m\u001b[34m7\u001b[39;49;00m.\u001b[34m24\u001b[39;49;00m,\u001b[37m \u001b[39;49;00m\u001b[34m10\u001b[39;49;00m,\u001b[37m \u001b[39;49;00m\u001b[34m5\u001b[39;49;00m.\u001b[34m45\u001b[39;49;00m),\u001b[37m\u001b[39;49;00m\n",
            "(\u001b[33m'https://creately.com/ar/lp/%D8%A8%D8%B1%D9%86%D8%A7%D9%85%D8%AC-%D8%A5%D9%86%D8%B4%D8%A7%D8%A1-%D8%A7%D9%84%D9%85%D8%AE%D8%B7%D8%B7%D8%A7%D8%AA-%D8%A7%D9%84%D8%AA%D9%86%D8%B8%D9%8A%D9%85%D9%8A%D8%A9/'\u001b[39;49;00m,\u001b[37m \u001b[39;49;00m\u001b[33m'SEARCH-GEN-OrgChart-MiddleEast-AR-#2'\u001b[39;49;00m,\u001b[37m \u001b[39;49;00m\u001b[33m'Advanced and Interactive Features'\u001b[39;49;00m,\u001b[37m \u001b[39;49;00m\u001b[34m645\u001b[39;49;00m,\u001b[37m \u001b[39;49;00m\u001b[34m91\u001b[39;49;00m,\u001b[37m \u001b[39;49;00m\u001b[34m1\u001b[39;49;00m.\u001b[34m31\u001b[39;49;00m,\u001b[37m \u001b[39;49;00m\u001b[33m'USD'\u001b[39;49;00m,\u001b[37m \u001b[39;49;00m\u001b[34m0\u001b[39;49;00m.\u001b[34m12\u001b[39;49;00m,\u001b[37m \u001b[39;49;00m\u001b[34m0\u001b[39;49;00m.\u001b[34m69\u001b[39;49;00m,\u001b[37m \u001b[39;49;00m\u001b[34m0\u001b[39;49;00m,\u001b[37m \u001b[39;49;00m\u001b[34m0\u001b[39;49;00m),\u001b[37m\u001b[39;49;00m\n",
            "(\u001b[33m'https://creately.com/ar/lp/%D8%A8%D8%B1%D9%86%D8%A7%D9%85%D8%AC-%D8%A5%D9%86%D8%B4%D8%A7%D8%A1-%D8%A7%D9%84%D9%85%D8%AE%D8%B7%D8%B7%D8%A7%D8%AA-%D8%A7%D9%84%D8%AA%D9%86%D8%B8%D9%8A%D9%85%D9%8A%D8%A9/'\u001b[39;49;00m,\u001b[37m \u001b[39;49;00m\u001b[33m'SEARCH-GEN-OrgChart-MiddleEast-AR-#2'\u001b[39;49;00m,\u001b[37m \u001b[39;49;00m\u001b[33m'Basic Org Chart Creation'\u001b[39;49;00m,\u001b[37m \u001b[39;49;00m\u001b[34m1665\u001b[39;49;00m,\u001b[37m \u001b[39;49;00m\u001b[34m12\u001b[39;49;00m,\u001b[37m \u001b[39;49;00m\u001b[34m2\u001b[39;49;00m.\u001b[34m46\u001b[39;49;00m,\u001b[37m \u001b[39;49;00m\u001b[33m'USD'\u001b[39;49;00m,\u001b[37m \u001b[39;49;00m\u001b[34m0\u001b[39;49;00m.\u001b[34m07\u001b[39;49;00m,\u001b[37m \u001b[39;49;00m\u001b[34m1\u001b[39;49;00m.\u001b[34m15\u001b[39;49;00m,\u001b[37m \u001b[39;49;00m\u001b[34m0\u001b[39;49;00m,\u001b[37m \u001b[39;49;00m\u001b[34m0\u001b[39;49;00m),\u001b[37m\u001b[39;49;00m\n",
            "(\u001b[33m'https://creately.com/ar/lp/%D8%A8%D8%B1%D9%86%D8%A7%D9%85%D8%AC-%D8%A5%D9%86%D8%B4%D8%A7%D8%A1-%D8%A7%D9%84%D9%85%D8%AE%D8%B7%D8%B7%D8%A7%D8%AA-%D8%A7%D9%84%D8%AA%D9%86%D8%B8%D9%8A%D9%85%D9%8A%D8%A9/'\u001b[39;49;00m,\u001b[37m \u001b[39;49;00m\u001b[33m'SEARCH-GEN-OrgChart-MiddleEast-AR-#2'\u001b[39;49;00m,\u001b[37m \u001b[39;49;00m\u001b[33m'Cloud and Collaboration'\u001b[39;49;00m,\u001b[37m \u001b[39;49;00m\u001b[34m1546\u001b[39;49;00m,\u001b[37m \u001b[39;49;00m\u001b[34m33\u001b[39;49;00m,\u001b[37m \u001b[39;49;00m\u001b[34m3\u001b[39;49;00m.\u001b[34m24\u001b[39;49;00m,\u001b[37m \u001b[39;49;00m\u001b[33m'USD'\u001b[39;49;00m,\u001b[37m \u001b[39;49;00m\u001b[34m0\u001b[39;49;00m.\u001b[34m23\u001b[39;49;00m,\u001b[37m \u001b[39;49;00m\u001b[34m3\u001b[39;49;00m.\u001b[34m43\u001b[39;49;00m,\u001b[37m \u001b[39;49;00m\u001b[34m0\u001b[39;49;00m,\u001b[37m \u001b[39;49;00m\u001b[34m0\u001b[39;49;00m),\u001b[37m\u001b[39;49;00m\n",
            "(\u001b[33m'https://creately.com/ar/lp/%D8%A8%D8%B1%D9%86%D8%A7%D9%85%D8%AC-%D8%A5%D9%86%D8%B4%D8%A7%D8%A1-%D8%A7%D9%84%D9%85%D8%AE%D8%B7%D8%B7%D8%A7%D8%AA-%D8%A7%D9%84%D8%AA%D9%86%D8%B8%D9%8A%D9%85%D9%8A%D8%A9/'\u001b[39;49;00m,\u001b[37m \u001b[39;49;00m\u001b[33m'SEARCH-GEN-OrgChart-MiddleEast-AR-#2'\u001b[39;49;00m,\u001b[37m \u001b[39;49;00m\u001b[33m'Company Specific and PowerPoint Integration'\u001b[39;49;00m,\u001b[37m \u001b[39;49;00m\u001b[34m753\u001b[39;49;00m,\u001b[37m \u001b[39;49;00m\u001b[34m51\u001b[39;49;00m,\u001b[37m \u001b[39;49;00m\u001b[34m1\u001b[39;49;00m.\u001b[34m31\u001b[39;49;00m,\u001b[37m \u001b[39;49;00m\u001b[33m'USD'\u001b[39;49;00m,\u001b[37m \u001b[39;49;00m\u001b[34m0\u001b[39;49;00m.\u001b[34m25\u001b[39;49;00m,\u001b[37m \u001b[39;49;00m\u001b[34m1\u001b[39;49;00m.\u001b[34m75\u001b[39;49;00m,\u001b[37m \u001b[39;49;00m\u001b[34m0\u001b[39;49;00m,\u001b[37m \u001b[39;49;00m\u001b[34m0\u001b[39;49;00m),\u001b[37m\u001b[39;49;00m\n",
            "(\u001b[33m'https://creately.com/ar/lp/%D8%A8%D8%B1%D9%86%D8%A7%D9%85%D8%AC-%D8%A5%D9%86%D8%B4%D8%A7%D8%A1-%D8%A7%D9%84%D9%85%D8%AE%D8%B7%D8%B7%D8%A7%D8%AA-%D8%A7%D9%84%D8%AA%D9%86%D8%B8%D9%8A%D9%85%D9%8A%D8%A9/'\u001b[39;49;00m,\u001b[37m \u001b[39;49;00m\u001b[33m'SEARCH-GEN-OrgChart-MiddleEast-AR-#2'\u001b[39;49;00m,\u001b[37m \u001b[39;49;00m\u001b[33m'Free and Template Options'\u001b[39;49;00m,\u001b[37m \u001b[39;49;00m\u001b[34m860\u001b[39;49;00m,\u001b[37m \u001b[39;49;00m\u001b[34m61\u001b[39;49;00m,\u001b[37m \u001b[39;49;00m\u001b[34m1\u001b[39;49;00m.\u001b[34m32\u001b[39;49;00m,\u001b[37m \u001b[39;49;00m\u001b[33m'USD'\u001b[39;49;00m,\u001b[37m \u001b[39;49;00m\u001b[34m0\u001b[39;49;00m.\u001b[34m25\u001b[39;49;00m,\u001b[37m \u001b[39;49;00m\u001b[34m2\u001b[39;49;00m,\u001b[37m \u001b[39;49;00m\u001b[34m0\u001b[39;49;00m,\u001b[37m \u001b[39;49;00m\u001b[34m0\u001b[39;49;00m),\u001b[37m\u001b[39;49;00m\n",
            "(\u001b[33m'https://creately.com/ar/lp/%D8%A8%D8%B1%D9%86%D8%A7%D9%85%D8%AC-%D8%A5%D9%86%D8%B4%D8%A7%D8%A1-%D8%A7%D9%84%D9%85%D8%AE%D8%B7%D8%B7%D8%A7%D8%AA-%D8%A7%D9%84%D8%AA%D9%86%D8%B8%D9%8A%D9%85%D9%8A%D8%A9/'\u001b[39;49;00m,\u001b[37m \u001b[39;49;00m\u001b[33m'SEARCH-GEN-OrgChart-MiddleEast-AR-#2'\u001b[39;49;00m,\u001b[37m \u001b[39;49;00m\u001b[33m'Niche and Low-Volume Searches'\u001b[39;49;00m,\u001b[37m \u001b[39;49;00m\u001b[34m1045\u001b[39;49;00m,\u001b[37m \u001b[39;49;00m\u001b[34m72\u001b[39;49;00m,\u001b[37m \u001b[39;49;00m\u001b[34m2\u001b[39;49;00m.\u001b[34m19\u001b[39;49;00m,\u001b[37m \u001b[39;49;00m\u001b[33m'USD'\u001b[39;49;00m,\u001b[37m \u001b[39;49;00m\u001b[34m0\u001b[39;49;00m.\u001b[34m09\u001b[39;49;00m,\u001b[37m \u001b[39;49;00m\u001b[34m0\u001b[39;49;00m.\u001b[34m93\u001b[39;49;00m,\u001b[37m \u001b[39;49;00m\u001b[34m0\u001b[39;49;00m,\u001b[37m \u001b[39;49;00m\u001b[34m0\u001b[39;49;00m),\u001b[37m\u001b[39;49;00m\n",
            "(\u001b[33m'https://creately.com/ar/lp/%D8%A8%D8%B1%D9%86%D8%A7%D9%85%D8%AC-%D8%A5%D9%86%D8%B4%D8%A7%D8%A1-%D8%A7%D9%84%D9%85%D8%AE%D8%B7%D8%B7%D8%A7%D8%AA-%D8%A7%D9%84%D8%AA%D9%86%D8%B8%D9%8A%D9%85%D9%8A%D8%A9/'\u001b[39;49;00m,\u001b[37m \u001b[39;49;00m\u001b[33m'SEARCH-GEN-OrgChart-MiddleEast-AR-#2'\u001b[39;49;00m,\u001b[37m \u001b[39;49;00m\u001b[33m'Specific Software - Lucidchart'\u001b[39;49;00m,\u001b[37m \u001b[39;49;00m\u001b[34m546\u001b[39;49;00m,\u001b[37m \u001b[39;49;00m\u001b[34m41\u001b[39;49;00m,\u001b[37m \u001b[39;49;00m\u001b[34m1\u001b[39;49;00m.\u001b[34m08\u001b[39;49;00m,\u001b[37m \u001b[39;49;00m\u001b[33m'USD'\u001b[39;49;00m,\u001b[37m \u001b[39;49;00m\u001b[34m0\u001b[39;49;00m.\u001b[34m3\u001b[39;49;00m,\u001b[37m \u001b[39;49;00m\u001b[34m1\u001b[39;49;00m.\u001b[34m5\u001b[39;49;00m,\u001b[37m \u001b[39;49;00m\u001b[34m0\u001b[39;49;00m,\u001b[37m \u001b[39;49;00m\u001b[34m0\u001b[39;49;00m)\u001b[37m\u001b[39;49;00m\n",
            "\u001b[34mAS\u001b[39;49;00m\u001b[37m \u001b[39;49;00mv1(landing_page,\u001b[37m \u001b[39;49;00mcampaign,\u001b[37m \u001b[39;49;00mad_group,\u001b[37m \u001b[39;49;00mclicks,\u001b[37m \u001b[39;49;00mimpressions,\u001b[37m \u001b[39;49;00mclick_through_rate,\u001b[37m \u001b[39;49;00mcurrency_code,\u001b[37m \u001b[39;49;00maverage_cost_per_click,\u001b[37m \u001b[39;49;00mcost,\u001b[37m \u001b[39;49;00mconversions,\u001b[37m \u001b[39;49;00mcost_per_conversion)\u001b[37m\u001b[39;49;00m\n",
            "\n"
          ]
        },
        {
          "output_type": "stream",
          "name": "stdout",
          "text": [
            "\u001b[92mINFO: \u001b[0mStoring data into temp view: spark_ai_temp_view_120683\n",
            "\n"
          ]
        },
        {
          "output_type": "stream",
          "name": "stderr",
          "text": [
            "INFO:spark_ai:Storing data into temp view: spark_ai_temp_view_120683\n",
            "\n"
          ]
        },
        {
          "output_type": "stream",
          "name": "stdout",
          "text": [
            "+--------------------+--------------------+--------------------+------+-----------+------------------+-------------+----------------------+------+-----------+-------------------+\n",
            "|        landing_page|            campaign|            ad_group|clicks|impressions|click_through_rate|currency_code|average_cost_per_click|  cost|conversions|cost_per_conversion|\n",
            "+--------------------+--------------------+--------------------+------+-----------+------------------+-------------+----------------------+------+-----------+-------------------+\n",
            "|https://creately....|SEARCH-BRAND-EN-2...|            Brand-US|   441|        876|             50.34|          USD|                 0.240|105.68|         13|               8.37|\n",
            "|https://creately....|SEARCH-BRAND-EN-2...|            Brand-WW|  1450|       2708|             53.55|          USD|                 0.045|  7.24|         10|               5.45|\n",
            "|https://creately....|SEARCH-GEN-OrgCha...|Advanced and Inte...|   645|         91|              1.31|          USD|                 0.120|  0.69|          0|               0.00|\n",
            "|https://creately....|SEARCH-GEN-OrgCha...|Basic Org Chart C...|  1665|         12|              2.46|          USD|                 0.070|  1.15|          0|               0.00|\n",
            "|https://creately....|SEARCH-GEN-OrgCha...|Cloud and Collabo...|  1546|         33|              3.24|          USD|                 0.230|  3.43|          0|               0.00|\n",
            "+--------------------+--------------------+--------------------+------+-----------+------------------+-------------+----------------------+------+-----------+-------------------+\n",
            "only showing top 5 rows\n",
            "\n"
          ]
        }
      ]
    },
    {
      "cell_type": "markdown",
      "source": [
        "## Dataframe Explaination"
      ],
      "metadata": {
        "id": "OAUFkp_HPOpk"
      }
    },
    {
      "cell_type": "code",
      "source": [
        "print(auto_df.ai.explain())"
      ],
      "metadata": {
        "colab": {
          "base_uri": "https://localhost:8080/"
        },
        "id": "Aj0tMoiPPVRH",
        "outputId": "ecb84584-12a3-4d89-bc69-7455273b79bf"
      },
      "execution_count": 27,
      "outputs": [
        {
          "output_type": "stream",
          "name": "stdout",
          "text": [
            "In summary, this SQL query retrieves data from a temporary view named `spark_ai_temp_view_120683`. It selects various attributes related to advertising performance, including landing page, campaign, ad group, number of clicks, number of impressions, click-through rate, currency code, average cost per click, total cost, number of conversions, and cost per conversion. Each of these attributes is cast to a specific data type, ensuring the data is in a consistent and expected format for analysis or reporting purposes.\n"
          ]
        }
      ]
    },
    {
      "cell_type": "markdown",
      "source": [
        "## Applying Transformations"
      ],
      "metadata": {
        "id": "fZ4bHBD2PHiM"
      }
    },
    {
      "cell_type": "code",
      "source": [
        "Topic_Performance = auto_df.ai.transform(\"advertising performance by topic where the highest conversions at lowest cost would mean the best performance. lowest cost per conversion = best performance. define topic based on the landing page url taken as context (url: Topic, https://creately.com/lp/concept-map-maker/:Concept Map, https://creately.com/lp/org-chart-software/:Orgchart)\")"
      ],
      "metadata": {
        "colab": {
          "base_uri": "https://localhost:8080/"
        },
        "id": "fSoPAJb2L0jK",
        "outputId": "3addeb81-5550-4836-9138-efe14945a824"
      },
      "execution_count": 28,
      "outputs": [
        {
          "output_type": "stream",
          "name": "stdout",
          "text": [
            "\u001b[92mINFO: \u001b[0mCreating temp view for the transform:\n",
            "df.createOrReplaceTempView(\u001b[33m\"\u001b[39;49;00m\u001b[33mspark_ai_temp_view_463109390\u001b[39;49;00m\u001b[33m\"\u001b[39;49;00m)\u001b[37m\u001b[39;49;00m\n",
            "\n"
          ]
        },
        {
          "output_type": "stream",
          "name": "stderr",
          "text": [
            "INFO:spark_ai:Creating temp view for the transform:\n",
            "df.createOrReplaceTempView(\u001b[33m\"\u001b[39;49;00m\u001b[33mspark_ai_temp_view_463109390\u001b[39;49;00m\u001b[33m\"\u001b[39;49;00m)\u001b[37m\u001b[39;49;00m\n",
            "\n"
          ]
        },
        {
          "output_type": "stream",
          "name": "stdout",
          "text": [
            "\u001b[92mINFO: \u001b[0mUsing cached result for the transform:\n"
          ]
        },
        {
          "output_type": "stream",
          "name": "stderr",
          "text": [
            "INFO:spark_ai:Using cached result for the transform:\n"
          ]
        },
        {
          "output_type": "stream",
          "name": "stdout",
          "text": [
            "\u001b[92mINFO: \u001b[0m\u001b[34mSELECT\u001b[39;49;00m\u001b[37m \u001b[39;49;00m\n",
            "\u001b[37m    \u001b[39;49;00m\u001b[34mCASE\u001b[39;49;00m\u001b[37m \u001b[39;49;00m\n",
            "\u001b[37m        \u001b[39;49;00m\u001b[34mWHEN\u001b[39;49;00m\u001b[37m \u001b[39;49;00m`landing_page`\u001b[37m \u001b[39;49;00m\u001b[34mLIKE\u001b[39;49;00m\u001b[37m \u001b[39;49;00m\u001b[33m'%/lp/concept-map-maker/%'\u001b[39;49;00m\u001b[37m \u001b[39;49;00m\u001b[34mTHEN\u001b[39;49;00m\u001b[37m \u001b[39;49;00m\u001b[33m'Concept Map'\u001b[39;49;00m\u001b[37m \u001b[39;49;00m\n",
            "\u001b[37m        \u001b[39;49;00m\u001b[34mWHEN\u001b[39;49;00m\u001b[37m \u001b[39;49;00m`landing_page`\u001b[37m \u001b[39;49;00m\u001b[34mLIKE\u001b[39;49;00m\u001b[37m \u001b[39;49;00m\u001b[33m'%/lp/org-chart-software/%'\u001b[39;49;00m\u001b[37m \u001b[39;49;00m\u001b[34mTHEN\u001b[39;49;00m\u001b[37m \u001b[39;49;00m\u001b[33m'Orgchart'\u001b[39;49;00m\u001b[37m \u001b[39;49;00m\n",
            "\u001b[37m        \u001b[39;49;00m\u001b[34mELSE\u001b[39;49;00m\u001b[37m \u001b[39;49;00m\u001b[33m'Other'\u001b[39;49;00m\u001b[37m \u001b[39;49;00m\n",
            "\u001b[37m    \u001b[39;49;00m\u001b[34mEND\u001b[39;49;00m\u001b[37m \u001b[39;49;00m\u001b[34mAS\u001b[39;49;00m\u001b[37m \u001b[39;49;00m`Topic`,\u001b[37m\u001b[39;49;00m\n",
            "\u001b[37m    \u001b[39;49;00m\u001b[34mSUM\u001b[39;49;00m(`conversions`)\u001b[37m \u001b[39;49;00m\u001b[34mAS\u001b[39;49;00m\u001b[37m \u001b[39;49;00m`Total\u001b[37m \u001b[39;49;00mConversions`,\u001b[37m\u001b[39;49;00m\n",
            "\u001b[37m    \u001b[39;49;00m\u001b[34mSUM\u001b[39;49;00m(`cost`)\u001b[37m \u001b[39;49;00m\u001b[34mAS\u001b[39;49;00m\u001b[37m \u001b[39;49;00m`Total\u001b[37m \u001b[39;49;00mCost`,\u001b[37m\u001b[39;49;00m\n",
            "\u001b[37m    \u001b[39;49;00m\u001b[34mAVG\u001b[39;49;00m(`cost_per_conversion`)\u001b[37m \u001b[39;49;00m\u001b[34mAS\u001b[39;49;00m\u001b[37m \u001b[39;49;00m`Average\u001b[37m \u001b[39;49;00mCost\u001b[37m \u001b[39;49;00mPer\u001b[37m \u001b[39;49;00m\u001b[34mConversion\u001b[39;49;00m`\u001b[37m\u001b[39;49;00m\n",
            "\u001b[34mFROM\u001b[39;49;00m\u001b[37m \u001b[39;49;00m\n",
            "\u001b[37m    \u001b[39;49;00m`spark_ai_temp_view`\u001b[37m\u001b[39;49;00m\n",
            "\u001b[34mGROUP\u001b[39;49;00m\u001b[37m \u001b[39;49;00m\u001b[34mBY\u001b[39;49;00m\u001b[37m \u001b[39;49;00m\n",
            "\u001b[37m    \u001b[39;49;00m\u001b[34mCASE\u001b[39;49;00m\u001b[37m \u001b[39;49;00m\n",
            "\u001b[37m        \u001b[39;49;00m\u001b[34mWHEN\u001b[39;49;00m\u001b[37m \u001b[39;49;00m`landing_page`\u001b[37m \u001b[39;49;00m\u001b[34mLIKE\u001b[39;49;00m\u001b[37m \u001b[39;49;00m\u001b[33m'%/lp/concept-map-maker/%'\u001b[39;49;00m\u001b[37m \u001b[39;49;00m\u001b[34mTHEN\u001b[39;49;00m\u001b[37m \u001b[39;49;00m\u001b[33m'Concept Map'\u001b[39;49;00m\u001b[37m \u001b[39;49;00m\n",
            "\u001b[37m        \u001b[39;49;00m\u001b[34mWHEN\u001b[39;49;00m\u001b[37m \u001b[39;49;00m`landing_page`\u001b[37m \u001b[39;49;00m\u001b[34mLIKE\u001b[39;49;00m\u001b[37m \u001b[39;49;00m\u001b[33m'%/lp/org-chart-software/%'\u001b[39;49;00m\u001b[37m \u001b[39;49;00m\u001b[34mTHEN\u001b[39;49;00m\u001b[37m \u001b[39;49;00m\u001b[33m'Orgchart'\u001b[39;49;00m\u001b[37m \u001b[39;49;00m\n",
            "\u001b[37m        \u001b[39;49;00m\u001b[34mELSE\u001b[39;49;00m\u001b[37m \u001b[39;49;00m\u001b[33m'Other'\u001b[39;49;00m\u001b[37m \u001b[39;49;00m\n",
            "\u001b[37m    \u001b[39;49;00m\u001b[34mEND\u001b[39;49;00m\u001b[37m\u001b[39;49;00m\n",
            "\u001b[34mORDER\u001b[39;49;00m\u001b[37m \u001b[39;49;00m\u001b[34mBY\u001b[39;49;00m\u001b[37m \u001b[39;49;00m\n",
            "\u001b[37m    \u001b[39;49;00m`Average\u001b[37m \u001b[39;49;00mCost\u001b[37m \u001b[39;49;00mPer\u001b[37m \u001b[39;49;00m\u001b[34mConversion\u001b[39;49;00m`\u001b[37m \u001b[39;49;00m\u001b[34mASC\u001b[39;49;00m,\u001b[37m \u001b[39;49;00m`Total\u001b[37m \u001b[39;49;00mConversions`\u001b[37m \u001b[39;49;00m\u001b[34mDESC\u001b[39;49;00m\u001b[37m\u001b[39;49;00m\n",
            "\n"
          ]
        },
        {
          "output_type": "stream",
          "name": "stderr",
          "text": [
            "INFO:spark_ai:\u001b[34mSELECT\u001b[39;49;00m\u001b[37m \u001b[39;49;00m\n",
            "\u001b[37m    \u001b[39;49;00m\u001b[34mCASE\u001b[39;49;00m\u001b[37m \u001b[39;49;00m\n",
            "\u001b[37m        \u001b[39;49;00m\u001b[34mWHEN\u001b[39;49;00m\u001b[37m \u001b[39;49;00m`landing_page`\u001b[37m \u001b[39;49;00m\u001b[34mLIKE\u001b[39;49;00m\u001b[37m \u001b[39;49;00m\u001b[33m'%/lp/concept-map-maker/%'\u001b[39;49;00m\u001b[37m \u001b[39;49;00m\u001b[34mTHEN\u001b[39;49;00m\u001b[37m \u001b[39;49;00m\u001b[33m'Concept Map'\u001b[39;49;00m\u001b[37m \u001b[39;49;00m\n",
            "\u001b[37m        \u001b[39;49;00m\u001b[34mWHEN\u001b[39;49;00m\u001b[37m \u001b[39;49;00m`landing_page`\u001b[37m \u001b[39;49;00m\u001b[34mLIKE\u001b[39;49;00m\u001b[37m \u001b[39;49;00m\u001b[33m'%/lp/org-chart-software/%'\u001b[39;49;00m\u001b[37m \u001b[39;49;00m\u001b[34mTHEN\u001b[39;49;00m\u001b[37m \u001b[39;49;00m\u001b[33m'Orgchart'\u001b[39;49;00m\u001b[37m \u001b[39;49;00m\n",
            "\u001b[37m        \u001b[39;49;00m\u001b[34mELSE\u001b[39;49;00m\u001b[37m \u001b[39;49;00m\u001b[33m'Other'\u001b[39;49;00m\u001b[37m \u001b[39;49;00m\n",
            "\u001b[37m    \u001b[39;49;00m\u001b[34mEND\u001b[39;49;00m\u001b[37m \u001b[39;49;00m\u001b[34mAS\u001b[39;49;00m\u001b[37m \u001b[39;49;00m`Topic`,\u001b[37m\u001b[39;49;00m\n",
            "\u001b[37m    \u001b[39;49;00m\u001b[34mSUM\u001b[39;49;00m(`conversions`)\u001b[37m \u001b[39;49;00m\u001b[34mAS\u001b[39;49;00m\u001b[37m \u001b[39;49;00m`Total\u001b[37m \u001b[39;49;00mConversions`,\u001b[37m\u001b[39;49;00m\n",
            "\u001b[37m    \u001b[39;49;00m\u001b[34mSUM\u001b[39;49;00m(`cost`)\u001b[37m \u001b[39;49;00m\u001b[34mAS\u001b[39;49;00m\u001b[37m \u001b[39;49;00m`Total\u001b[37m \u001b[39;49;00mCost`,\u001b[37m\u001b[39;49;00m\n",
            "\u001b[37m    \u001b[39;49;00m\u001b[34mAVG\u001b[39;49;00m(`cost_per_conversion`)\u001b[37m \u001b[39;49;00m\u001b[34mAS\u001b[39;49;00m\u001b[37m \u001b[39;49;00m`Average\u001b[37m \u001b[39;49;00mCost\u001b[37m \u001b[39;49;00mPer\u001b[37m \u001b[39;49;00m\u001b[34mConversion\u001b[39;49;00m`\u001b[37m\u001b[39;49;00m\n",
            "\u001b[34mFROM\u001b[39;49;00m\u001b[37m \u001b[39;49;00m\n",
            "\u001b[37m    \u001b[39;49;00m`spark_ai_temp_view`\u001b[37m\u001b[39;49;00m\n",
            "\u001b[34mGROUP\u001b[39;49;00m\u001b[37m \u001b[39;49;00m\u001b[34mBY\u001b[39;49;00m\u001b[37m \u001b[39;49;00m\n",
            "\u001b[37m    \u001b[39;49;00m\u001b[34mCASE\u001b[39;49;00m\u001b[37m \u001b[39;49;00m\n",
            "\u001b[37m        \u001b[39;49;00m\u001b[34mWHEN\u001b[39;49;00m\u001b[37m \u001b[39;49;00m`landing_page`\u001b[37m \u001b[39;49;00m\u001b[34mLIKE\u001b[39;49;00m\u001b[37m \u001b[39;49;00m\u001b[33m'%/lp/concept-map-maker/%'\u001b[39;49;00m\u001b[37m \u001b[39;49;00m\u001b[34mTHEN\u001b[39;49;00m\u001b[37m \u001b[39;49;00m\u001b[33m'Concept Map'\u001b[39;49;00m\u001b[37m \u001b[39;49;00m\n",
            "\u001b[37m        \u001b[39;49;00m\u001b[34mWHEN\u001b[39;49;00m\u001b[37m \u001b[39;49;00m`landing_page`\u001b[37m \u001b[39;49;00m\u001b[34mLIKE\u001b[39;49;00m\u001b[37m \u001b[39;49;00m\u001b[33m'%/lp/org-chart-software/%'\u001b[39;49;00m\u001b[37m \u001b[39;49;00m\u001b[34mTHEN\u001b[39;49;00m\u001b[37m \u001b[39;49;00m\u001b[33m'Orgchart'\u001b[39;49;00m\u001b[37m \u001b[39;49;00m\n",
            "\u001b[37m        \u001b[39;49;00m\u001b[34mELSE\u001b[39;49;00m\u001b[37m \u001b[39;49;00m\u001b[33m'Other'\u001b[39;49;00m\u001b[37m \u001b[39;49;00m\n",
            "\u001b[37m    \u001b[39;49;00m\u001b[34mEND\u001b[39;49;00m\u001b[37m\u001b[39;49;00m\n",
            "\u001b[34mORDER\u001b[39;49;00m\u001b[37m \u001b[39;49;00m\u001b[34mBY\u001b[39;49;00m\u001b[37m \u001b[39;49;00m\n",
            "\u001b[37m    \u001b[39;49;00m`Average\u001b[37m \u001b[39;49;00mCost\u001b[37m \u001b[39;49;00mPer\u001b[37m \u001b[39;49;00m\u001b[34mConversion\u001b[39;49;00m`\u001b[37m \u001b[39;49;00m\u001b[34mASC\u001b[39;49;00m,\u001b[37m \u001b[39;49;00m`Total\u001b[37m \u001b[39;49;00mConversions`\u001b[37m \u001b[39;49;00m\u001b[34mDESC\u001b[39;49;00m\u001b[37m\u001b[39;49;00m\n",
            "\n"
          ]
        }
      ]
    },
    {
      "cell_type": "code",
      "source": [
        "Topic_Performance.show(20)"
      ],
      "metadata": {
        "colab": {
          "base_uri": "https://localhost:8080/"
        },
        "id": "rLfWJtV6QTfK",
        "outputId": "d9f42d4a-3ecb-49aa-e8eb-71ec8b3c8e6f"
      },
      "execution_count": 23,
      "outputs": [
        {
          "output_type": "stream",
          "name": "stdout",
          "text": [
            "+-----+-----------------+----------+---------------------------+\n",
            "|Topic|Total Conversions|Total Cost|Average Cost Per Conversion|\n",
            "+-----+-----------------+----------+---------------------------+\n",
            "|Other|               23|    124.37|                   1.535556|\n",
            "+-----+-----------------+----------+---------------------------+\n",
            "\n"
          ]
        }
      ]
    },
    {
      "cell_type": "markdown",
      "source": [
        "## Verifying"
      ],
      "metadata": {
        "id": "_WAB-LsbVMTf"
      }
    },
    {
      "cell_type": "code",
      "source": [
        "auto_df.ai.verify(\"expect cost_per_conversion to be below $20\")"
      ],
      "metadata": {
        "colab": {
          "base_uri": "https://localhost:8080/"
        },
        "id": "ZUOXbC45QcNu",
        "outputId": "9fbec354-dfac-4309-c5b4-6df197c89749"
      },
      "execution_count": 29,
      "outputs": [
        {
          "output_type": "stream",
          "name": "stdout",
          "text": [
            "\u001b[92mINFO: \u001b[0mLLM Output:\n",
            "def cost_per_conversion_below_20(df) -> bool:\n",
            "    # Import necessary PySpark SQL functions\n",
            "    from pyspark.sql.functions import col\n",
            "\n",
            "    # Check if the maximum cost_per_conversion is below $20\n",
            "    max_cost_per_conversion = df.select(col(\"cost_per_conversion\")).rdd.max()[0]\n",
            "    if max_cost_per_conversion < 20:\n",
            "        return True\n",
            "    else:\n",
            "        return False\n",
            "\n",
            "result = cost_per_conversion_below_20(df)\n"
          ]
        },
        {
          "output_type": "stream",
          "name": "stderr",
          "text": [
            "INFO:spark_ai:LLM Output:\n",
            "def cost_per_conversion_below_20(df) -> bool:\n",
            "    # Import necessary PySpark SQL functions\n",
            "    from pyspark.sql.functions import col\n",
            "\n",
            "    # Check if the maximum cost_per_conversion is below $20\n",
            "    max_cost_per_conversion = df.select(col(\"cost_per_conversion\")).rdd.max()[0]\n",
            "    if max_cost_per_conversion < 20:\n",
            "        return True\n",
            "    else:\n",
            "        return False\n",
            "\n",
            "result = cost_per_conversion_below_20(df)\n"
          ]
        },
        {
          "output_type": "stream",
          "name": "stdout",
          "text": [
            "\u001b[92mINFO: \u001b[0mGenerated code:\n",
            "\u001b[34mdef\u001b[39;49;00m \u001b[32mcost_per_conversion_below_20\u001b[39;49;00m(df) -> \u001b[36mbool\u001b[39;49;00m:\u001b[37m\u001b[39;49;00m\n",
            "    \u001b[37m# Import necessary PySpark SQL functions\u001b[39;49;00m\u001b[37m\u001b[39;49;00m\n",
            "    \u001b[34mfrom\u001b[39;49;00m \u001b[04m\u001b[36mpyspark\u001b[39;49;00m\u001b[04m\u001b[36m.\u001b[39;49;00m\u001b[04m\u001b[36msql\u001b[39;49;00m\u001b[04m\u001b[36m.\u001b[39;49;00m\u001b[04m\u001b[36mfunctions\u001b[39;49;00m \u001b[34mimport\u001b[39;49;00m col\u001b[37m\u001b[39;49;00m\n",
            "\u001b[37m\u001b[39;49;00m\n",
            "    \u001b[37m# Check if the maximum cost_per_conversion is below $20\u001b[39;49;00m\u001b[37m\u001b[39;49;00m\n",
            "    max_cost_per_conversion = df.select(col(\u001b[33m\"\u001b[39;49;00m\u001b[33mcost_per_conversion\u001b[39;49;00m\u001b[33m\"\u001b[39;49;00m)).rdd.max()[\u001b[34m0\u001b[39;49;00m]\u001b[37m\u001b[39;49;00m\n",
            "    \u001b[34mif\u001b[39;49;00m max_cost_per_conversion < \u001b[34m20\u001b[39;49;00m:\u001b[37m\u001b[39;49;00m\n",
            "        \u001b[34mreturn\u001b[39;49;00m \u001b[34mTrue\u001b[39;49;00m\u001b[37m\u001b[39;49;00m\n",
            "    \u001b[34melse\u001b[39;49;00m:\u001b[37m\u001b[39;49;00m\n",
            "        \u001b[34mreturn\u001b[39;49;00m \u001b[34mFalse\u001b[39;49;00m\u001b[37m\u001b[39;49;00m\n",
            "\u001b[37m\u001b[39;49;00m\n",
            "result = cost_per_conversion_below_20(df)\u001b[37m\u001b[39;49;00m\n",
            "\n"
          ]
        },
        {
          "output_type": "stream",
          "name": "stderr",
          "text": [
            "INFO:spark_ai:Generated code:\n",
            "\u001b[34mdef\u001b[39;49;00m \u001b[32mcost_per_conversion_below_20\u001b[39;49;00m(df) -> \u001b[36mbool\u001b[39;49;00m:\u001b[37m\u001b[39;49;00m\n",
            "    \u001b[37m# Import necessary PySpark SQL functions\u001b[39;49;00m\u001b[37m\u001b[39;49;00m\n",
            "    \u001b[34mfrom\u001b[39;49;00m \u001b[04m\u001b[36mpyspark\u001b[39;49;00m\u001b[04m\u001b[36m.\u001b[39;49;00m\u001b[04m\u001b[36msql\u001b[39;49;00m\u001b[04m\u001b[36m.\u001b[39;49;00m\u001b[04m\u001b[36mfunctions\u001b[39;49;00m \u001b[34mimport\u001b[39;49;00m col\u001b[37m\u001b[39;49;00m\n",
            "\u001b[37m\u001b[39;49;00m\n",
            "    \u001b[37m# Check if the maximum cost_per_conversion is below $20\u001b[39;49;00m\u001b[37m\u001b[39;49;00m\n",
            "    max_cost_per_conversion = df.select(col(\u001b[33m\"\u001b[39;49;00m\u001b[33mcost_per_conversion\u001b[39;49;00m\u001b[33m\"\u001b[39;49;00m)).rdd.max()[\u001b[34m0\u001b[39;49;00m]\u001b[37m\u001b[39;49;00m\n",
            "    \u001b[34mif\u001b[39;49;00m max_cost_per_conversion < \u001b[34m20\u001b[39;49;00m:\u001b[37m\u001b[39;49;00m\n",
            "        \u001b[34mreturn\u001b[39;49;00m \u001b[34mTrue\u001b[39;49;00m\u001b[37m\u001b[39;49;00m\n",
            "    \u001b[34melse\u001b[39;49;00m:\u001b[37m\u001b[39;49;00m\n",
            "        \u001b[34mreturn\u001b[39;49;00m \u001b[34mFalse\u001b[39;49;00m\u001b[37m\u001b[39;49;00m\n",
            "\u001b[37m\u001b[39;49;00m\n",
            "result = cost_per_conversion_below_20(df)\u001b[37m\u001b[39;49;00m\n",
            "\n"
          ]
        },
        {
          "output_type": "stream",
          "name": "stdout",
          "text": [
            "\u001b[92mINFO: \u001b[0m\n",
            "Result: True\n"
          ]
        },
        {
          "output_type": "stream",
          "name": "stderr",
          "text": [
            "INFO:spark_ai:\n",
            "Result: True\n"
          ]
        },
        {
          "output_type": "execute_result",
          "data": {
            "text/plain": [
              "True"
            ]
          },
          "metadata": {},
          "execution_count": 29
        }
      ]
    },
    {
      "cell_type": "markdown",
      "source": [
        "## Visualization"
      ],
      "metadata": {
        "id": "QuSTJxLWVPWS"
      }
    },
    {
      "cell_type": "code",
      "source": [
        "auto_df.show(5)"
      ],
      "metadata": {
        "colab": {
          "base_uri": "https://localhost:8080/"
        },
        "id": "sB-kt81TWmus",
        "outputId": "fee64fa6-268a-4ff6-f234-c312edeae04d"
      },
      "execution_count": 35,
      "outputs": [
        {
          "output_type": "stream",
          "name": "stdout",
          "text": [
            "+--------------------+--------------------+--------------------+------+-----------+------------------+-------------+----------------------+------+-----------+-------------------+\n",
            "|        landing_page|            campaign|            ad_group|clicks|impressions|click_through_rate|currency_code|average_cost_per_click|  cost|conversions|cost_per_conversion|\n",
            "+--------------------+--------------------+--------------------+------+-----------+------------------+-------------+----------------------+------+-----------+-------------------+\n",
            "|https://creately....|SEARCH-BRAND-EN-2...|            Brand-US|   441|        876|             50.34|          USD|                 0.240|105.68|         13|               8.37|\n",
            "|https://creately....|SEARCH-BRAND-EN-2...|            Brand-WW|  1450|       2708|             53.55|          USD|                 0.045|  7.24|         10|               5.45|\n",
            "|https://creately....|SEARCH-GEN-OrgCha...|Advanced and Inte...|   645|         91|              1.31|          USD|                 0.120|  0.69|          0|               0.00|\n",
            "|https://creately....|SEARCH-GEN-OrgCha...|Basic Org Chart C...|  1665|         12|              2.46|          USD|                 0.070|  1.15|          0|               0.00|\n",
            "|https://creately....|SEARCH-GEN-OrgCha...|Cloud and Collabo...|  1546|         33|              3.24|          USD|                 0.230|  3.43|          0|               0.00|\n",
            "+--------------------+--------------------+--------------------+------+-----------+------------------+-------------+----------------------+------+-----------+-------------------+\n",
            "only showing top 5 rows\n",
            "\n"
          ]
        }
      ]
    },
    {
      "cell_type": "code",
      "source": [
        "auto_df.ai.plot(\"Plot a bar chart with matplotlib to show the impressions, conversions, cost and cost per conversion by landing page. impressions should be plot on right y axis while the other 3 on the left y axis\")"
      ],
      "metadata": {
        "colab": {
          "base_uri": "https://localhost:8080/",
          "height": 1000
        },
        "id": "RyIEfBI7T-O1",
        "outputId": "3ecfc1a7-8369-479c-8270-63adac169a27"
      },
      "execution_count": 34,
      "outputs": [
        {
          "output_type": "stream",
          "name": "stdout",
          "text": [
            "\u001b[92mINFO: \u001b[0mTo achieve the visualization of the DataFrame `df` using plotly as per the given requirements, follow the steps below. This includes aggregating the data in Spark, converting it to a Pandas DataFrame, and then plotting it using Plotly. Note that we're using Plotly for plotting as per the initial request, even though the purpose mentions matplotlib, assuming it's a typo given the context.\n",
            "\n",
            "First, ensure you have a Spark session running:\n",
            "\n",
            "\n",
            "```\n",
            "\u001b[34mfrom\u001b[39;49;00m \u001b[04m\u001b[36mpyspark\u001b[39;49;00m\u001b[04m\u001b[36m.\u001b[39;49;00m\u001b[04m\u001b[36msql\u001b[39;49;00m \u001b[34mimport\u001b[39;49;00m SparkSession\u001b[37m\u001b[39;49;00m\n",
            "\u001b[34mfrom\u001b[39;49;00m \u001b[04m\u001b[36mpyspark\u001b[39;49;00m\u001b[04m\u001b[36m.\u001b[39;49;00m\u001b[04m\u001b[36msql\u001b[39;49;00m \u001b[34mimport\u001b[39;49;00m functions \u001b[34mas\u001b[39;49;00m F\u001b[37m\u001b[39;49;00m\n",
            "\u001b[34mimport\u001b[39;49;00m \u001b[04m\u001b[36mpandas\u001b[39;49;00m \u001b[34mas\u001b[39;49;00m \u001b[04m\u001b[36mpd\u001b[39;49;00m\u001b[37m\u001b[39;49;00m\n",
            "\u001b[34mimport\u001b[39;49;00m \u001b[04m\u001b[36mplotly\u001b[39;49;00m\u001b[04m\u001b[36m.\u001b[39;49;00m\u001b[04m\u001b[36mgraph_objects\u001b[39;49;00m \u001b[34mas\u001b[39;49;00m \u001b[04m\u001b[36mgo\u001b[39;49;00m\u001b[37m\u001b[39;49;00m\n",
            "\u001b[34mfrom\u001b[39;49;00m \u001b[04m\u001b[36mplotly\u001b[39;49;00m\u001b[04m\u001b[36m.\u001b[39;49;00m\u001b[04m\u001b[36msubplots\u001b[39;49;00m \u001b[34mimport\u001b[39;49;00m make_subplots\u001b[37m\u001b[39;49;00m\n",
            "\u001b[37m\u001b[39;49;00m\n",
            "\u001b[37m# Start Spark session\u001b[39;49;00m\u001b[37m\u001b[39;49;00m\n",
            "spark = SparkSession.builder.getOrCreate()\u001b[37m\u001b[39;49;00m\n",
            "```\n",
            "\n",
            "Given the DataFrame `df`, we'll aggregate the data:\n",
            "\n",
            "\n",
            "```\n",
            "\u001b[37m# Aggregate data\u001b[39;49;00m\u001b[37m\u001b[39;49;00m\n",
            "df_agg = df.groupBy(\u001b[33m\"\u001b[39;49;00m\u001b[33mlanding_page\u001b[39;49;00m\u001b[33m\"\u001b[39;49;00m).agg(\u001b[37m\u001b[39;49;00m\n",
            "    F.sum(\u001b[33m\"\u001b[39;49;00m\u001b[33mimpressions\u001b[39;49;00m\u001b[33m\"\u001b[39;49;00m).alias(\u001b[33m\"\u001b[39;49;00m\u001b[33mtotal_impressions\u001b[39;49;00m\u001b[33m\"\u001b[39;49;00m),\u001b[37m\u001b[39;49;00m\n",
            "    F.sum(\u001b[33m\"\u001b[39;49;00m\u001b[33mconversions\u001b[39;49;00m\u001b[33m\"\u001b[39;49;00m).alias(\u001b[33m\"\u001b[39;49;00m\u001b[33mtotal_conversions\u001b[39;49;00m\u001b[33m\"\u001b[39;49;00m),\u001b[37m\u001b[39;49;00m\n",
            "    F.sum(\u001b[33m\"\u001b[39;49;00m\u001b[33mcost\u001b[39;49;00m\u001b[33m\"\u001b[39;49;00m).alias(\u001b[33m\"\u001b[39;49;00m\u001b[33mtotal_cost\u001b[39;49;00m\u001b[33m\"\u001b[39;49;00m),\u001b[37m\u001b[39;49;00m\n",
            "    (F.sum(\u001b[33m\"\u001b[39;49;00m\u001b[33mcost\u001b[39;49;00m\u001b[33m\"\u001b[39;49;00m) / F.sum(\u001b[33m\"\u001b[39;49;00m\u001b[33mconversions\u001b[39;49;00m\u001b[33m\"\u001b[39;49;00m)).alias(\u001b[33m\"\u001b[39;49;00m\u001b[33mavg_cost_per_conversion\u001b[39;49;00m\u001b[33m\"\u001b[39;49;00m)\u001b[37m\u001b[39;49;00m\n",
            ").orderBy(\u001b[33m\"\u001b[39;49;00m\u001b[33mlanding_page\u001b[39;49;00m\u001b[33m\"\u001b[39;49;00m)\u001b[37m\u001b[39;49;00m\n",
            "```\n",
            "\n",
            "Now, convert the aggregated Spark DataFrame to a Pandas DataFrame:\n",
            "\n",
            "\n",
            "```\n",
            "\u001b[37m# Convert to Pandas DataFrame\u001b[39;49;00m\u001b[37m\u001b[39;49;00m\n",
            "pdf = df_agg.toPandas()\u001b[37m\u001b[39;49;00m\n",
            "```\n",
            "\n",
            "Finally, plot the data using Plotly:\n",
            "\n",
            "\n",
            "```\n",
            "\u001b[37m# Create subplots with 2 y-axes\u001b[39;49;00m\u001b[37m\u001b[39;49;00m\n",
            "fig = make_subplots(specs=[[{\u001b[33m\"\u001b[39;49;00m\u001b[33msecondary_y\u001b[39;49;00m\u001b[33m\"\u001b[39;49;00m: \u001b[34mTrue\u001b[39;49;00m}]])\u001b[37m\u001b[39;49;00m\n",
            "\u001b[37m\u001b[39;49;00m\n",
            "\u001b[37m# Add bar charts for conversions, cost, and cost per conversion on the left y-axis\u001b[39;49;00m\u001b[37m\u001b[39;49;00m\n",
            "fig.add_trace(go.Bar(x=pdf[\u001b[33m'\u001b[39;49;00m\u001b[33mlanding_page\u001b[39;49;00m\u001b[33m'\u001b[39;49;00m], y=pdf[\u001b[33m'\u001b[39;49;00m\u001b[33mtotal_conversions\u001b[39;49;00m\u001b[33m'\u001b[39;49;00m], name=\u001b[33m'\u001b[39;49;00m\u001b[33mConversions\u001b[39;49;00m\u001b[33m'\u001b[39;49;00m), secondary_y=\u001b[34mFalse\u001b[39;49;00m)\u001b[37m\u001b[39;49;00m\n",
            "fig.add_trace(go.Bar(x=pdf[\u001b[33m'\u001b[39;49;00m\u001b[33mlanding_page\u001b[39;49;00m\u001b[33m'\u001b[39;49;00m], y=pdf[\u001b[33m'\u001b[39;49;00m\u001b[33mtotal_cost\u001b[39;49;00m\u001b[33m'\u001b[39;49;00m], name=\u001b[33m'\u001b[39;49;00m\u001b[33mCost\u001b[39;49;00m\u001b[33m'\u001b[39;49;00m), secondary_y=\u001b[34mFalse\u001b[39;49;00m)\u001b[37m\u001b[39;49;00m\n",
            "fig.add_trace(go.Bar(x=pdf[\u001b[33m'\u001b[39;49;00m\u001b[33mlanding_page\u001b[39;49;00m\u001b[33m'\u001b[39;49;00m], y=pdf[\u001b[33m'\u001b[39;49;00m\u001b[33mavg_cost_per_conversion\u001b[39;49;00m\u001b[33m'\u001b[39;49;00m], name=\u001b[33m'\u001b[39;49;00m\u001b[33mCost per Conversion\u001b[39;49;00m\u001b[33m'\u001b[39;49;00m), secondary_y=\u001b[34mFalse\u001b[39;49;00m)\u001b[37m\u001b[39;49;00m\n",
            "\u001b[37m\u001b[39;49;00m\n",
            "\u001b[37m# Add a line chart for impressions on the right y-axis\u001b[39;49;00m\u001b[37m\u001b[39;49;00m\n",
            "fig.add_trace(go.Scatter(x=pdf[\u001b[33m'\u001b[39;49;00m\u001b[33mlanding_page\u001b[39;49;00m\u001b[33m'\u001b[39;49;00m], y=pdf[\u001b[33m'\u001b[39;49;00m\u001b[33mtotal_impressions\u001b[39;49;00m\u001b[33m'\u001b[39;49;00m], name=\u001b[33m'\u001b[39;49;00m\u001b[33mImpressions\u001b[39;49;00m\u001b[33m'\u001b[39;49;00m, mode=\u001b[33m'\u001b[39;49;00m\u001b[33mlines+markers\u001b[39;49;00m\u001b[33m'\u001b[39;49;00m), secondary_y=\u001b[34mTrue\u001b[39;49;00m)\u001b[37m\u001b[39;49;00m\n",
            "\u001b[37m\u001b[39;49;00m\n",
            "\u001b[37m# Set x-axis title\u001b[39;49;00m\u001b[37m\u001b[39;49;00m\n",
            "fig.update_xaxes(title_text=\u001b[33m\"\u001b[39;49;00m\u001b[33mLanding Page\u001b[39;49;00m\u001b[33m\"\u001b[39;49;00m)\u001b[37m\u001b[39;49;00m\n",
            "\u001b[37m\u001b[39;49;00m\n",
            "\u001b[37m# Set y-axes titles\u001b[39;49;00m\u001b[37m\u001b[39;49;00m\n",
            "fig.update_yaxes(title_text=\u001b[33m\"\u001b[39;49;00m\u001b[33mConversions, Cost, Cost per Conversion\u001b[39;49;00m\u001b[33m\"\u001b[39;49;00m, secondary_y=\u001b[34mFalse\u001b[39;49;00m)\u001b[37m\u001b[39;49;00m\n",
            "fig.update_yaxes(title_text=\u001b[33m\"\u001b[39;49;00m\u001b[33mImpressions\u001b[39;49;00m\u001b[33m\"\u001b[39;49;00m, secondary_y=\u001b[34mTrue\u001b[39;49;00m)\u001b[37m\u001b[39;49;00m\n",
            "\u001b[37m\u001b[39;49;00m\n",
            "\u001b[37m# Set plot title\u001b[39;49;00m\u001b[37m\u001b[39;49;00m\n",
            "fig.update_layout(title_text=\u001b[33m\"\u001b[39;49;00m\u001b[33mPerformance by Landing Page\u001b[39;49;00m\u001b[33m\"\u001b[39;49;00m)\u001b[37m\u001b[39;49;00m\n",
            "\u001b[37m\u001b[39;49;00m\n",
            "\u001b[37m# Show plot\u001b[39;49;00m\u001b[37m\u001b[39;49;00m\n",
            "fig.show()\u001b[37m\u001b[39;49;00m\n",
            "```\n",
            "\n",
            "This code snippet aggregates the data by `landing_page` in Spark, calculates the total impressions, conversions, total cost, and average cost per conversion, then visualizes these metrics using Plotly. The bar chart displays conversions, cost, and cost per conversion on the left y-axis, while a line chart for impressions is plotted on the right y-axis, all categorized by `landing_page`.\n"
          ]
        },
        {
          "output_type": "stream",
          "name": "stderr",
          "text": [
            "INFO:spark_ai:To achieve the visualization of the DataFrame `df` using plotly as per the given requirements, follow the steps below. This includes aggregating the data in Spark, converting it to a Pandas DataFrame, and then plotting it using Plotly. Note that we're using Plotly for plotting as per the initial request, even though the purpose mentions matplotlib, assuming it's a typo given the context.\n",
            "\n",
            "First, ensure you have a Spark session running:\n",
            "\n",
            "\n",
            "```\n",
            "\u001b[34mfrom\u001b[39;49;00m \u001b[04m\u001b[36mpyspark\u001b[39;49;00m\u001b[04m\u001b[36m.\u001b[39;49;00m\u001b[04m\u001b[36msql\u001b[39;49;00m \u001b[34mimport\u001b[39;49;00m SparkSession\u001b[37m\u001b[39;49;00m\n",
            "\u001b[34mfrom\u001b[39;49;00m \u001b[04m\u001b[36mpyspark\u001b[39;49;00m\u001b[04m\u001b[36m.\u001b[39;49;00m\u001b[04m\u001b[36msql\u001b[39;49;00m \u001b[34mimport\u001b[39;49;00m functions \u001b[34mas\u001b[39;49;00m F\u001b[37m\u001b[39;49;00m\n",
            "\u001b[34mimport\u001b[39;49;00m \u001b[04m\u001b[36mpandas\u001b[39;49;00m \u001b[34mas\u001b[39;49;00m \u001b[04m\u001b[36mpd\u001b[39;49;00m\u001b[37m\u001b[39;49;00m\n",
            "\u001b[34mimport\u001b[39;49;00m \u001b[04m\u001b[36mplotly\u001b[39;49;00m\u001b[04m\u001b[36m.\u001b[39;49;00m\u001b[04m\u001b[36mgraph_objects\u001b[39;49;00m \u001b[34mas\u001b[39;49;00m \u001b[04m\u001b[36mgo\u001b[39;49;00m\u001b[37m\u001b[39;49;00m\n",
            "\u001b[34mfrom\u001b[39;49;00m \u001b[04m\u001b[36mplotly\u001b[39;49;00m\u001b[04m\u001b[36m.\u001b[39;49;00m\u001b[04m\u001b[36msubplots\u001b[39;49;00m \u001b[34mimport\u001b[39;49;00m make_subplots\u001b[37m\u001b[39;49;00m\n",
            "\u001b[37m\u001b[39;49;00m\n",
            "\u001b[37m# Start Spark session\u001b[39;49;00m\u001b[37m\u001b[39;49;00m\n",
            "spark = SparkSession.builder.getOrCreate()\u001b[37m\u001b[39;49;00m\n",
            "```\n",
            "\n",
            "Given the DataFrame `df`, we'll aggregate the data:\n",
            "\n",
            "\n",
            "```\n",
            "\u001b[37m# Aggregate data\u001b[39;49;00m\u001b[37m\u001b[39;49;00m\n",
            "df_agg = df.groupBy(\u001b[33m\"\u001b[39;49;00m\u001b[33mlanding_page\u001b[39;49;00m\u001b[33m\"\u001b[39;49;00m).agg(\u001b[37m\u001b[39;49;00m\n",
            "    F.sum(\u001b[33m\"\u001b[39;49;00m\u001b[33mimpressions\u001b[39;49;00m\u001b[33m\"\u001b[39;49;00m).alias(\u001b[33m\"\u001b[39;49;00m\u001b[33mtotal_impressions\u001b[39;49;00m\u001b[33m\"\u001b[39;49;00m),\u001b[37m\u001b[39;49;00m\n",
            "    F.sum(\u001b[33m\"\u001b[39;49;00m\u001b[33mconversions\u001b[39;49;00m\u001b[33m\"\u001b[39;49;00m).alias(\u001b[33m\"\u001b[39;49;00m\u001b[33mtotal_conversions\u001b[39;49;00m\u001b[33m\"\u001b[39;49;00m),\u001b[37m\u001b[39;49;00m\n",
            "    F.sum(\u001b[33m\"\u001b[39;49;00m\u001b[33mcost\u001b[39;49;00m\u001b[33m\"\u001b[39;49;00m).alias(\u001b[33m\"\u001b[39;49;00m\u001b[33mtotal_cost\u001b[39;49;00m\u001b[33m\"\u001b[39;49;00m),\u001b[37m\u001b[39;49;00m\n",
            "    (F.sum(\u001b[33m\"\u001b[39;49;00m\u001b[33mcost\u001b[39;49;00m\u001b[33m\"\u001b[39;49;00m) / F.sum(\u001b[33m\"\u001b[39;49;00m\u001b[33mconversions\u001b[39;49;00m\u001b[33m\"\u001b[39;49;00m)).alias(\u001b[33m\"\u001b[39;49;00m\u001b[33mavg_cost_per_conversion\u001b[39;49;00m\u001b[33m\"\u001b[39;49;00m)\u001b[37m\u001b[39;49;00m\n",
            ").orderBy(\u001b[33m\"\u001b[39;49;00m\u001b[33mlanding_page\u001b[39;49;00m\u001b[33m\"\u001b[39;49;00m)\u001b[37m\u001b[39;49;00m\n",
            "```\n",
            "\n",
            "Now, convert the aggregated Spark DataFrame to a Pandas DataFrame:\n",
            "\n",
            "\n",
            "```\n",
            "\u001b[37m# Convert to Pandas DataFrame\u001b[39;49;00m\u001b[37m\u001b[39;49;00m\n",
            "pdf = df_agg.toPandas()\u001b[37m\u001b[39;49;00m\n",
            "```\n",
            "\n",
            "Finally, plot the data using Plotly:\n",
            "\n",
            "\n",
            "```\n",
            "\u001b[37m# Create subplots with 2 y-axes\u001b[39;49;00m\u001b[37m\u001b[39;49;00m\n",
            "fig = make_subplots(specs=[[{\u001b[33m\"\u001b[39;49;00m\u001b[33msecondary_y\u001b[39;49;00m\u001b[33m\"\u001b[39;49;00m: \u001b[34mTrue\u001b[39;49;00m}]])\u001b[37m\u001b[39;49;00m\n",
            "\u001b[37m\u001b[39;49;00m\n",
            "\u001b[37m# Add bar charts for conversions, cost, and cost per conversion on the left y-axis\u001b[39;49;00m\u001b[37m\u001b[39;49;00m\n",
            "fig.add_trace(go.Bar(x=pdf[\u001b[33m'\u001b[39;49;00m\u001b[33mlanding_page\u001b[39;49;00m\u001b[33m'\u001b[39;49;00m], y=pdf[\u001b[33m'\u001b[39;49;00m\u001b[33mtotal_conversions\u001b[39;49;00m\u001b[33m'\u001b[39;49;00m], name=\u001b[33m'\u001b[39;49;00m\u001b[33mConversions\u001b[39;49;00m\u001b[33m'\u001b[39;49;00m), secondary_y=\u001b[34mFalse\u001b[39;49;00m)\u001b[37m\u001b[39;49;00m\n",
            "fig.add_trace(go.Bar(x=pdf[\u001b[33m'\u001b[39;49;00m\u001b[33mlanding_page\u001b[39;49;00m\u001b[33m'\u001b[39;49;00m], y=pdf[\u001b[33m'\u001b[39;49;00m\u001b[33mtotal_cost\u001b[39;49;00m\u001b[33m'\u001b[39;49;00m], name=\u001b[33m'\u001b[39;49;00m\u001b[33mCost\u001b[39;49;00m\u001b[33m'\u001b[39;49;00m), secondary_y=\u001b[34mFalse\u001b[39;49;00m)\u001b[37m\u001b[39;49;00m\n",
            "fig.add_trace(go.Bar(x=pdf[\u001b[33m'\u001b[39;49;00m\u001b[33mlanding_page\u001b[39;49;00m\u001b[33m'\u001b[39;49;00m], y=pdf[\u001b[33m'\u001b[39;49;00m\u001b[33mavg_cost_per_conversion\u001b[39;49;00m\u001b[33m'\u001b[39;49;00m], name=\u001b[33m'\u001b[39;49;00m\u001b[33mCost per Conversion\u001b[39;49;00m\u001b[33m'\u001b[39;49;00m), secondary_y=\u001b[34mFalse\u001b[39;49;00m)\u001b[37m\u001b[39;49;00m\n",
            "\u001b[37m\u001b[39;49;00m\n",
            "\u001b[37m# Add a line chart for impressions on the right y-axis\u001b[39;49;00m\u001b[37m\u001b[39;49;00m\n",
            "fig.add_trace(go.Scatter(x=pdf[\u001b[33m'\u001b[39;49;00m\u001b[33mlanding_page\u001b[39;49;00m\u001b[33m'\u001b[39;49;00m], y=pdf[\u001b[33m'\u001b[39;49;00m\u001b[33mtotal_impressions\u001b[39;49;00m\u001b[33m'\u001b[39;49;00m], name=\u001b[33m'\u001b[39;49;00m\u001b[33mImpressions\u001b[39;49;00m\u001b[33m'\u001b[39;49;00m, mode=\u001b[33m'\u001b[39;49;00m\u001b[33mlines+markers\u001b[39;49;00m\u001b[33m'\u001b[39;49;00m), secondary_y=\u001b[34mTrue\u001b[39;49;00m)\u001b[37m\u001b[39;49;00m\n",
            "\u001b[37m\u001b[39;49;00m\n",
            "\u001b[37m# Set x-axis title\u001b[39;49;00m\u001b[37m\u001b[39;49;00m\n",
            "fig.update_xaxes(title_text=\u001b[33m\"\u001b[39;49;00m\u001b[33mLanding Page\u001b[39;49;00m\u001b[33m\"\u001b[39;49;00m)\u001b[37m\u001b[39;49;00m\n",
            "\u001b[37m\u001b[39;49;00m\n",
            "\u001b[37m# Set y-axes titles\u001b[39;49;00m\u001b[37m\u001b[39;49;00m\n",
            "fig.update_yaxes(title_text=\u001b[33m\"\u001b[39;49;00m\u001b[33mConversions, Cost, Cost per Conversion\u001b[39;49;00m\u001b[33m\"\u001b[39;49;00m, secondary_y=\u001b[34mFalse\u001b[39;49;00m)\u001b[37m\u001b[39;49;00m\n",
            "fig.update_yaxes(title_text=\u001b[33m\"\u001b[39;49;00m\u001b[33mImpressions\u001b[39;49;00m\u001b[33m\"\u001b[39;49;00m, secondary_y=\u001b[34mTrue\u001b[39;49;00m)\u001b[37m\u001b[39;49;00m\n",
            "\u001b[37m\u001b[39;49;00m\n",
            "\u001b[37m# Set plot title\u001b[39;49;00m\u001b[37m\u001b[39;49;00m\n",
            "fig.update_layout(title_text=\u001b[33m\"\u001b[39;49;00m\u001b[33mPerformance by Landing Page\u001b[39;49;00m\u001b[33m\"\u001b[39;49;00m)\u001b[37m\u001b[39;49;00m\n",
            "\u001b[37m\u001b[39;49;00m\n",
            "\u001b[37m# Show plot\u001b[39;49;00m\u001b[37m\u001b[39;49;00m\n",
            "fig.show()\u001b[37m\u001b[39;49;00m\n",
            "```\n",
            "\n",
            "This code snippet aggregates the data by `landing_page` in Spark, calculates the total impressions, conversions, total cost, and average cost per conversion, then visualizes these metrics using Plotly. The bar chart displays conversions, cost, and cost per conversion on the left y-axis, while a line chart for impressions is plotted on the right y-axis, all categorized by `landing_page`.\n"
          ]
        },
        {
          "output_type": "display_data",
          "data": {
            "text/html": [
              "<html>\n",
              "<head><meta charset=\"utf-8\" /></head>\n",
              "<body>\n",
              "    <div>            <script src=\"https://cdnjs.cloudflare.com/ajax/libs/mathjax/2.7.5/MathJax.js?config=TeX-AMS-MML_SVG\"></script><script type=\"text/javascript\">if (window.MathJax && window.MathJax.Hub && window.MathJax.Hub.Config) {window.MathJax.Hub.Config({SVG: {font: \"STIX-Web\"}});}</script>                <script type=\"text/javascript\">window.PlotlyConfig = {MathJaxConfig: 'local'};</script>\n",
              "        <script charset=\"utf-8\" src=\"https://cdn.plot.ly/plotly-2.24.1.min.js\"></script>                <div id=\"cf1834c6-c3b5-492b-9cdf-27b7e3063a3f\" class=\"plotly-graph-div\" style=\"height:525px; width:100%;\"></div>            <script type=\"text/javascript\">                                    window.PLOTLYENV=window.PLOTLYENV || {};                                    if (document.getElementById(\"cf1834c6-c3b5-492b-9cdf-27b7e3063a3f\")) {                    Plotly.newPlot(                        \"cf1834c6-c3b5-492b-9cdf-27b7e3063a3f\",                        [{\"name\":\"Conversions\",\"x\":[\"https:\\u002f\\u002fcreately.com\\u002f\",\"https:\\u002f\\u002fcreately.com\\u002far\\u002flp\\u002f%D8%A8%D8%B1%D9%86%D8%A7%D9%85%D8%AC-%D8%A5%D9%86%D8%B4%D8%A7%D8%A1-%D8%A7%D9%84%D9%85%D8%AE%D8%B7%D8%B7%D8%A7%D8%AA-%D8%A7%D9%84%D8%AA%D9%86%D8%B8%D9%8A%D9%85%D9%8A%D8%A9\\u002f\"],\"y\":[23,0],\"type\":\"bar\",\"xaxis\":\"x\",\"yaxis\":\"y\"},{\"name\":\"Cost\",\"x\":[\"https:\\u002f\\u002fcreately.com\\u002f\",\"https:\\u002f\\u002fcreately.com\\u002far\\u002flp\\u002f%D8%A8%D8%B1%D9%86%D8%A7%D9%85%D8%AC-%D8%A5%D9%86%D8%B4%D8%A7%D8%A1-%D8%A7%D9%84%D9%85%D8%AE%D8%B7%D8%B7%D8%A7%D8%AA-%D8%A7%D9%84%D8%AA%D9%86%D8%B8%D9%8A%D9%85%D9%8A%D8%A9\\u002f\"],\"y\":[112.92,11.45],\"type\":\"bar\",\"xaxis\":\"x\",\"yaxis\":\"y\"},{\"name\":\"Cost per Conversion\",\"x\":[\"https:\\u002f\\u002fcreately.com\\u002f\",\"https:\\u002f\\u002fcreately.com\\u002far\\u002flp\\u002f%D8%A8%D8%B1%D9%86%D8%A7%D9%85%D8%AC-%D8%A5%D9%86%D8%B4%D8%A7%D8%A1-%D8%A7%D9%84%D9%85%D8%AE%D8%B7%D8%B7%D8%A7%D8%AA-%D8%A7%D9%84%D8%AA%D9%86%D8%B8%D9%8A%D9%85%D9%8A%D8%A9\\u002f\"],\"y\":[4.909565217391305,null],\"type\":\"bar\",\"xaxis\":\"x\",\"yaxis\":\"y\"},{\"mode\":\"lines+markers\",\"name\":\"Impressions\",\"x\":[\"https:\\u002f\\u002fcreately.com\\u002f\",\"https:\\u002f\\u002fcreately.com\\u002far\\u002flp\\u002f%D8%A8%D8%B1%D9%86%D8%A7%D9%85%D8%AC-%D8%A5%D9%86%D8%B4%D8%A7%D8%A1-%D8%A7%D9%84%D9%85%D8%AE%D8%B7%D8%B7%D8%A7%D8%AA-%D8%A7%D9%84%D8%AA%D9%86%D8%B8%D9%8A%D9%85%D9%8A%D8%A9\\u002f\"],\"y\":[3584,361],\"type\":\"scatter\",\"xaxis\":\"x\",\"yaxis\":\"y2\"}],                        {\"template\":{\"data\":{\"histogram2dcontour\":[{\"type\":\"histogram2dcontour\",\"colorbar\":{\"outlinewidth\":0,\"ticks\":\"\"},\"colorscale\":[[0.0,\"#0d0887\"],[0.1111111111111111,\"#46039f\"],[0.2222222222222222,\"#7201a8\"],[0.3333333333333333,\"#9c179e\"],[0.4444444444444444,\"#bd3786\"],[0.5555555555555556,\"#d8576b\"],[0.6666666666666666,\"#ed7953\"],[0.7777777777777778,\"#fb9f3a\"],[0.8888888888888888,\"#fdca26\"],[1.0,\"#f0f921\"]]}],\"choropleth\":[{\"type\":\"choropleth\",\"colorbar\":{\"outlinewidth\":0,\"ticks\":\"\"}}],\"histogram2d\":[{\"type\":\"histogram2d\",\"colorbar\":{\"outlinewidth\":0,\"ticks\":\"\"},\"colorscale\":[[0.0,\"#0d0887\"],[0.1111111111111111,\"#46039f\"],[0.2222222222222222,\"#7201a8\"],[0.3333333333333333,\"#9c179e\"],[0.4444444444444444,\"#bd3786\"],[0.5555555555555556,\"#d8576b\"],[0.6666666666666666,\"#ed7953\"],[0.7777777777777778,\"#fb9f3a\"],[0.8888888888888888,\"#fdca26\"],[1.0,\"#f0f921\"]]}],\"heatmap\":[{\"type\":\"heatmap\",\"colorbar\":{\"outlinewidth\":0,\"ticks\":\"\"},\"colorscale\":[[0.0,\"#0d0887\"],[0.1111111111111111,\"#46039f\"],[0.2222222222222222,\"#7201a8\"],[0.3333333333333333,\"#9c179e\"],[0.4444444444444444,\"#bd3786\"],[0.5555555555555556,\"#d8576b\"],[0.6666666666666666,\"#ed7953\"],[0.7777777777777778,\"#fb9f3a\"],[0.8888888888888888,\"#fdca26\"],[1.0,\"#f0f921\"]]}],\"heatmapgl\":[{\"type\":\"heatmapgl\",\"colorbar\":{\"outlinewidth\":0,\"ticks\":\"\"},\"colorscale\":[[0.0,\"#0d0887\"],[0.1111111111111111,\"#46039f\"],[0.2222222222222222,\"#7201a8\"],[0.3333333333333333,\"#9c179e\"],[0.4444444444444444,\"#bd3786\"],[0.5555555555555556,\"#d8576b\"],[0.6666666666666666,\"#ed7953\"],[0.7777777777777778,\"#fb9f3a\"],[0.8888888888888888,\"#fdca26\"],[1.0,\"#f0f921\"]]}],\"contourcarpet\":[{\"type\":\"contourcarpet\",\"colorbar\":{\"outlinewidth\":0,\"ticks\":\"\"}}],\"contour\":[{\"type\":\"contour\",\"colorbar\":{\"outlinewidth\":0,\"ticks\":\"\"},\"colorscale\":[[0.0,\"#0d0887\"],[0.1111111111111111,\"#46039f\"],[0.2222222222222222,\"#7201a8\"],[0.3333333333333333,\"#9c179e\"],[0.4444444444444444,\"#bd3786\"],[0.5555555555555556,\"#d8576b\"],[0.6666666666666666,\"#ed7953\"],[0.7777777777777778,\"#fb9f3a\"],[0.8888888888888888,\"#fdca26\"],[1.0,\"#f0f921\"]]}],\"surface\":[{\"type\":\"surface\",\"colorbar\":{\"outlinewidth\":0,\"ticks\":\"\"},\"colorscale\":[[0.0,\"#0d0887\"],[0.1111111111111111,\"#46039f\"],[0.2222222222222222,\"#7201a8\"],[0.3333333333333333,\"#9c179e\"],[0.4444444444444444,\"#bd3786\"],[0.5555555555555556,\"#d8576b\"],[0.6666666666666666,\"#ed7953\"],[0.7777777777777778,\"#fb9f3a\"],[0.8888888888888888,\"#fdca26\"],[1.0,\"#f0f921\"]]}],\"mesh3d\":[{\"type\":\"mesh3d\",\"colorbar\":{\"outlinewidth\":0,\"ticks\":\"\"}}],\"scatter\":[{\"fillpattern\":{\"fillmode\":\"overlay\",\"size\":10,\"solidity\":0.2},\"type\":\"scatter\"}],\"parcoords\":[{\"type\":\"parcoords\",\"line\":{\"colorbar\":{\"outlinewidth\":0,\"ticks\":\"\"}}}],\"scatterpolargl\":[{\"type\":\"scatterpolargl\",\"marker\":{\"colorbar\":{\"outlinewidth\":0,\"ticks\":\"\"}}}],\"bar\":[{\"error_x\":{\"color\":\"#2a3f5f\"},\"error_y\":{\"color\":\"#2a3f5f\"},\"marker\":{\"line\":{\"color\":\"#E5ECF6\",\"width\":0.5},\"pattern\":{\"fillmode\":\"overlay\",\"size\":10,\"solidity\":0.2}},\"type\":\"bar\"}],\"scattergeo\":[{\"type\":\"scattergeo\",\"marker\":{\"colorbar\":{\"outlinewidth\":0,\"ticks\":\"\"}}}],\"scatterpolar\":[{\"type\":\"scatterpolar\",\"marker\":{\"colorbar\":{\"outlinewidth\":0,\"ticks\":\"\"}}}],\"histogram\":[{\"marker\":{\"pattern\":{\"fillmode\":\"overlay\",\"size\":10,\"solidity\":0.2}},\"type\":\"histogram\"}],\"scattergl\":[{\"type\":\"scattergl\",\"marker\":{\"colorbar\":{\"outlinewidth\":0,\"ticks\":\"\"}}}],\"scatter3d\":[{\"type\":\"scatter3d\",\"line\":{\"colorbar\":{\"outlinewidth\":0,\"ticks\":\"\"}},\"marker\":{\"colorbar\":{\"outlinewidth\":0,\"ticks\":\"\"}}}],\"scattermapbox\":[{\"type\":\"scattermapbox\",\"marker\":{\"colorbar\":{\"outlinewidth\":0,\"ticks\":\"\"}}}],\"scatterternary\":[{\"type\":\"scatterternary\",\"marker\":{\"colorbar\":{\"outlinewidth\":0,\"ticks\":\"\"}}}],\"scattercarpet\":[{\"type\":\"scattercarpet\",\"marker\":{\"colorbar\":{\"outlinewidth\":0,\"ticks\":\"\"}}}],\"carpet\":[{\"aaxis\":{\"endlinecolor\":\"#2a3f5f\",\"gridcolor\":\"white\",\"linecolor\":\"white\",\"minorgridcolor\":\"white\",\"startlinecolor\":\"#2a3f5f\"},\"baxis\":{\"endlinecolor\":\"#2a3f5f\",\"gridcolor\":\"white\",\"linecolor\":\"white\",\"minorgridcolor\":\"white\",\"startlinecolor\":\"#2a3f5f\"},\"type\":\"carpet\"}],\"table\":[{\"cells\":{\"fill\":{\"color\":\"#EBF0F8\"},\"line\":{\"color\":\"white\"}},\"header\":{\"fill\":{\"color\":\"#C8D4E3\"},\"line\":{\"color\":\"white\"}},\"type\":\"table\"}],\"barpolar\":[{\"marker\":{\"line\":{\"color\":\"#E5ECF6\",\"width\":0.5},\"pattern\":{\"fillmode\":\"overlay\",\"size\":10,\"solidity\":0.2}},\"type\":\"barpolar\"}],\"pie\":[{\"automargin\":true,\"type\":\"pie\"}]},\"layout\":{\"autotypenumbers\":\"strict\",\"colorway\":[\"#636efa\",\"#EF553B\",\"#00cc96\",\"#ab63fa\",\"#FFA15A\",\"#19d3f3\",\"#FF6692\",\"#B6E880\",\"#FF97FF\",\"#FECB52\"],\"font\":{\"color\":\"#2a3f5f\"},\"hovermode\":\"closest\",\"hoverlabel\":{\"align\":\"left\"},\"paper_bgcolor\":\"white\",\"plot_bgcolor\":\"#E5ECF6\",\"polar\":{\"bgcolor\":\"#E5ECF6\",\"angularaxis\":{\"gridcolor\":\"white\",\"linecolor\":\"white\",\"ticks\":\"\"},\"radialaxis\":{\"gridcolor\":\"white\",\"linecolor\":\"white\",\"ticks\":\"\"}},\"ternary\":{\"bgcolor\":\"#E5ECF6\",\"aaxis\":{\"gridcolor\":\"white\",\"linecolor\":\"white\",\"ticks\":\"\"},\"baxis\":{\"gridcolor\":\"white\",\"linecolor\":\"white\",\"ticks\":\"\"},\"caxis\":{\"gridcolor\":\"white\",\"linecolor\":\"white\",\"ticks\":\"\"}},\"coloraxis\":{\"colorbar\":{\"outlinewidth\":0,\"ticks\":\"\"}},\"colorscale\":{\"sequential\":[[0.0,\"#0d0887\"],[0.1111111111111111,\"#46039f\"],[0.2222222222222222,\"#7201a8\"],[0.3333333333333333,\"#9c179e\"],[0.4444444444444444,\"#bd3786\"],[0.5555555555555556,\"#d8576b\"],[0.6666666666666666,\"#ed7953\"],[0.7777777777777778,\"#fb9f3a\"],[0.8888888888888888,\"#fdca26\"],[1.0,\"#f0f921\"]],\"sequentialminus\":[[0.0,\"#0d0887\"],[0.1111111111111111,\"#46039f\"],[0.2222222222222222,\"#7201a8\"],[0.3333333333333333,\"#9c179e\"],[0.4444444444444444,\"#bd3786\"],[0.5555555555555556,\"#d8576b\"],[0.6666666666666666,\"#ed7953\"],[0.7777777777777778,\"#fb9f3a\"],[0.8888888888888888,\"#fdca26\"],[1.0,\"#f0f921\"]],\"diverging\":[[0,\"#8e0152\"],[0.1,\"#c51b7d\"],[0.2,\"#de77ae\"],[0.3,\"#f1b6da\"],[0.4,\"#fde0ef\"],[0.5,\"#f7f7f7\"],[0.6,\"#e6f5d0\"],[0.7,\"#b8e186\"],[0.8,\"#7fbc41\"],[0.9,\"#4d9221\"],[1,\"#276419\"]]},\"xaxis\":{\"gridcolor\":\"white\",\"linecolor\":\"white\",\"ticks\":\"\",\"title\":{\"standoff\":15},\"zerolinecolor\":\"white\",\"automargin\":true,\"zerolinewidth\":2},\"yaxis\":{\"gridcolor\":\"white\",\"linecolor\":\"white\",\"ticks\":\"\",\"title\":{\"standoff\":15},\"zerolinecolor\":\"white\",\"automargin\":true,\"zerolinewidth\":2},\"scene\":{\"xaxis\":{\"backgroundcolor\":\"#E5ECF6\",\"gridcolor\":\"white\",\"linecolor\":\"white\",\"showbackground\":true,\"ticks\":\"\",\"zerolinecolor\":\"white\",\"gridwidth\":2},\"yaxis\":{\"backgroundcolor\":\"#E5ECF6\",\"gridcolor\":\"white\",\"linecolor\":\"white\",\"showbackground\":true,\"ticks\":\"\",\"zerolinecolor\":\"white\",\"gridwidth\":2},\"zaxis\":{\"backgroundcolor\":\"#E5ECF6\",\"gridcolor\":\"white\",\"linecolor\":\"white\",\"showbackground\":true,\"ticks\":\"\",\"zerolinecolor\":\"white\",\"gridwidth\":2}},\"shapedefaults\":{\"line\":{\"color\":\"#2a3f5f\"}},\"annotationdefaults\":{\"arrowcolor\":\"#2a3f5f\",\"arrowhead\":0,\"arrowwidth\":1},\"geo\":{\"bgcolor\":\"white\",\"landcolor\":\"#E5ECF6\",\"subunitcolor\":\"white\",\"showland\":true,\"showlakes\":true,\"lakecolor\":\"white\"},\"title\":{\"x\":0.05},\"mapbox\":{\"style\":\"light\"}}},\"xaxis\":{\"anchor\":\"y\",\"domain\":[0.0,0.94],\"title\":{\"text\":\"Landing Page\"}},\"yaxis\":{\"anchor\":\"x\",\"domain\":[0.0,1.0],\"title\":{\"text\":\"Conversions, Cost, Cost per Conversion\"}},\"yaxis2\":{\"anchor\":\"x\",\"overlaying\":\"y\",\"side\":\"right\",\"title\":{\"text\":\"Impressions\"}},\"title\":{\"text\":\"Performance by Landing Page\"}},                        {\"responsive\": true}                    ).then(function(){\n",
              "                            \n",
              "var gd = document.getElementById('cf1834c6-c3b5-492b-9cdf-27b7e3063a3f');\n",
              "var x = new MutationObserver(function (mutations, observer) {{\n",
              "        var display = window.getComputedStyle(gd).display;\n",
              "        if (!display || display === 'none') {{\n",
              "            console.log([gd, 'removed!']);\n",
              "            Plotly.purge(gd);\n",
              "            observer.disconnect();\n",
              "        }}\n",
              "}});\n",
              "\n",
              "// Listen for the removal of the full notebook cells\n",
              "var notebookContainer = gd.closest('#notebook-container');\n",
              "if (notebookContainer) {{\n",
              "    x.observe(notebookContainer, {childList: true});\n",
              "}}\n",
              "\n",
              "// Listen for the clearing of the current output cell\n",
              "var outputEl = gd.closest('.output');\n",
              "if (outputEl) {{\n",
              "    x.observe(outputEl, {childList: true});\n",
              "}}\n",
              "\n",
              "                        })                };                            </script>        </div>\n",
              "</body>\n",
              "</html>"
            ]
          },
          "metadata": {}
        },
        {
          "output_type": "execute_result",
          "data": {
            "text/plain": [
              "'from pyspark.sql import SparkSession\\nfrom pyspark.sql import functions as F\\nimport pandas as pd\\nimport plotly.graph_objects as go\\nfrom plotly.subplots import make_subplots\\n\\n# Start Spark session\\nspark = SparkSession.builder.getOrCreate()\\n# Aggregate data\\ndf_agg = df.groupBy(\"landing_page\").agg(\\n    F.sum(\"impressions\").alias(\"total_impressions\"),\\n    F.sum(\"conversions\").alias(\"total_conversions\"),\\n    F.sum(\"cost\").alias(\"total_cost\"),\\n    (F.sum(\"cost\") / F.sum(\"conversions\")).alias(\"avg_cost_per_conversion\")\\n).orderBy(\"landing_page\")\\n# Convert to Pandas DataFrame\\npdf = df_agg.toPandas()\\n# Create subplots with 2 y-axes\\nfig = make_subplots(specs=[[{\"secondary_y\": True}]])\\n\\n# Add bar charts for conversions, cost, and cost per conversion on the left y-axis\\nfig.add_trace(go.Bar(x=pdf[\\'landing_page\\'], y=pdf[\\'total_conversions\\'], name=\\'Conversions\\'), secondary_y=False)\\nfig.add_trace(go.Bar(x=pdf[\\'landing_page\\'], y=pdf[\\'total_cost\\'], name=\\'Cost\\'), secondary_y=False)\\nfig.add_trace(go.Bar(x=pdf[\\'landing_page\\'], y=pdf[\\'avg_cost_per_conversion\\'], name=\\'Cost per Conversion\\'), secondary_y=False)\\n\\n# Add a line chart for impressions on the right y-axis\\nfig.add_trace(go.Scatter(x=pdf[\\'landing_page\\'], y=pdf[\\'total_impressions\\'], name=\\'Impressions\\', mode=\\'lines+markers\\'), secondary_y=True)\\n\\n# Set x-axis title\\nfig.update_xaxes(title_text=\"Landing Page\")\\n\\n# Set y-axes titles\\nfig.update_yaxes(title_text=\"Conversions, Cost, Cost per Conversion\", secondary_y=False)\\nfig.update_yaxes(title_text=\"Impressions\", secondary_y=True)\\n\\n# Set plot title\\nfig.update_layout(title_text=\"Performance by Landing Page\")\\n\\n# Show plot\\nfig.show()'"
            ],
            "application/vnd.google.colaboratory.intrinsic+json": {
              "type": "string"
            }
          },
          "metadata": {},
          "execution_count": 34
        }
      ]
    }
  ]
}