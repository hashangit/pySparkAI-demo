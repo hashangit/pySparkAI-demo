{
  "nbformat": 4,
  "nbformat_minor": 0,
  "metadata": {
    "colab": {
      "provenance": [],
      "collapsed_sections": [
        "GpwyAliUEowx",
        "dF7JJxbXGZWZ",
        "NJ0Wa82hFNl5",
        "R3e9cKnJHV6z",
        "DAoSF-WzLeeD",
        "OAUFkp_HPOpk",
        "_WAB-LsbVMTf"
      ],
      "toc_visible": true,
      "authorship_tag": "ABX9TyPyoRYpao7DYjy4AtnxPZTF",
      "include_colab_link": true
    },
    "kernelspec": {
      "name": "python3",
      "display_name": "Python 3"
    },
    "language_info": {
      "name": "python"
    }
  },
  "cells": [
    {
      "cell_type": "markdown",
      "metadata": {
        "id": "view-in-github",
        "colab_type": "text"
      },
      "source": [
        "<a href=\"https://colab.research.google.com/github/hashangit/pySparkAI-demo/blob/main/PySpark_AI.ipynb\" target=\"_parent\"><img src=\"https://colab.research.google.com/assets/colab-badge.svg\" alt=\"Open In Colab\"/></a>"
      ]
    },
    {
      "cell_type": "markdown",
      "source": [
        "## Installing Python and Pip"
      ],
      "metadata": {
        "id": "GpwyAliUEowx"
      }
    },
    {
      "cell_type": "code",
      "execution_count": null,
      "metadata": {
        "id": "XPvuhmH_CQO5"
      },
      "outputs": [],
      "source": [
        "\n",
        "!sudo apt-get update -y\n",
        "!sudo apt-get install python3.11\n",
        "!sudo update-alternatives --install /usr/bin/python3 python3 /usr/bin/python3.11 1\n",
        "!sudo update-alternatives --install /usr/bin/python3 python3 /usr/bin/python3.10.12 2\n"
      ]
    },
    {
      "cell_type": "code",
      "source": [
        "!python --version"
      ],
      "metadata": {
        "colab": {
          "base_uri": "https://localhost:8080/"
        },
        "id": "faLtIsSJCYlg",
        "outputId": "279e404d-2ae1-4041-8b9b-147b62e80aa5"
      },
      "execution_count": null,
      "outputs": [
        {
          "output_type": "stream",
          "name": "stdout",
          "text": [
            "Python 3.11.8\n"
          ]
        }
      ]
    },
    {
      "cell_type": "code",
      "source": [
        "!curl https://bootstrap.pypa.io/get-pip.py -o get-pip.py\n",
        "!python3 get-pip.py --force-reinstall"
      ],
      "metadata": {
        "id": "qV99CNqKEh1J"
      },
      "execution_count": null,
      "outputs": []
    },
    {
      "cell_type": "markdown",
      "source": [
        "## Installing Packages"
      ],
      "metadata": {
        "id": "dF7JJxbXGZWZ"
      }
    },
    {
      "cell_type": "code",
      "source": [
        "!pip install pyspark pyarrow pyspark-ai openai langchain langchain-openai"
      ],
      "metadata": {
        "id": "kUklcORnDCFC"
      },
      "execution_count": null,
      "outputs": []
    },
    {
      "cell_type": "markdown",
      "source": [
        "## Secrets"
      ],
      "metadata": {
        "id": "NJ0Wa82hFNl5"
      }
    },
    {
      "cell_type": "code",
      "source": [
        "from google.colab import userdata\n",
        "userdata.get('OPENAI_API_KEY')"
      ],
      "metadata": {
        "id": "WZL39THmDdE2"
      },
      "execution_count": null,
      "outputs": []
    },
    {
      "cell_type": "markdown",
      "source": [
        "## Initiate PySparkAI"
      ],
      "metadata": {
        "id": "R3e9cKnJHV6z"
      }
    },
    {
      "cell_type": "code",
      "source": [
        "import openai\n",
        "from langchain_openai import ChatOpenAI\n",
        "from pyspark_ai import SparkAI\n",
        "from pyspark.sql import SparkSession\n",
        "from google.colab import userdata\n",
        "import os\n",
        "\n",
        "model = \"gpt-4-0125-preview\"\n",
        "# model=\"gpt-3.5-turbo-0125\"\n",
        "\n",
        "os.environ[\"OPENAI_API_KEY\"] = userdata.get('OPENAI_API_KEY')\n",
        "llm = ChatOpenAI(model=model, temperature=0)\n",
        "sparkai = SparkAI(llm=llm, verbose=True)\n",
        "sparkai.activate()"
      ],
      "metadata": {
        "id": "-Sf7vzViHVNC"
      },
      "execution_count": 15,
      "outputs": []
    },
    {
      "cell_type": "markdown",
      "source": [
        "## Creating the df"
      ],
      "metadata": {
        "id": "DAoSF-WzLeeD"
      }
    },
    {
      "cell_type": "code",
      "source": [
        "link = \"https://docs.google.com/spreadsheets/d/1VbUa5AvOBgArjoigeuZbptKKoqpKKB5WPgcV77AYAIg/edit#gid=1630247784\"\n",
        "#link = \"https://docs.google.com/spreadsheets/d/17-oqBiI2hVAQZ58NzvhqKM0QnAOFF2lbZRnTxHG7UFI/edit#gid=1637711490\"\n",
        "\n",
        "auto_df = sparkai.create_df(link)\n",
        "auto_df.show(5)"
      ],
      "metadata": {
        "id": "uKiyHAyjKKWS"
      },
      "execution_count": null,
      "outputs": []
    },
    {
      "cell_type": "markdown",
      "source": [
        "## Dataframe Explaination"
      ],
      "metadata": {
        "id": "OAUFkp_HPOpk"
      }
    },
    {
      "cell_type": "code",
      "source": [
        "print(auto_df.ai.explain())"
      ],
      "metadata": {
        "id": "Aj0tMoiPPVRH"
      },
      "execution_count": null,
      "outputs": []
    },
    {
      "cell_type": "markdown",
      "source": [
        "## Applying Transformations"
      ],
      "metadata": {
        "id": "fZ4bHBD2PHiM"
      }
    },
    {
      "cell_type": "code",
      "source": [
        "Topic_Performance = auto_df.ai.transform(\"advertising performance by topic where the highest conversions at lowest cost would mean the best performance. lowest cost per conversion = best performance. define topic based on the landing page url taken as context (url: Topic, https://creately.com/lp/concept-map-maker/:Concept Map, https://creately.com/lp/org-chart-software/:Orgchart)\")"
      ],
      "metadata": {
        "id": "fSoPAJb2L0jK"
      },
      "execution_count": null,
      "outputs": []
    },
    {
      "cell_type": "code",
      "source": [
        "Topic_Performance.show(20)"
      ],
      "metadata": {
        "colab": {
          "base_uri": "https://localhost:8080/"
        },
        "id": "rLfWJtV6QTfK",
        "outputId": "d9f42d4a-3ecb-49aa-e8eb-71ec8b3c8e6f"
      },
      "execution_count": 23,
      "outputs": [
        {
          "output_type": "stream",
          "name": "stdout",
          "text": [
            "+-----+-----------------+----------+---------------------------+\n",
            "|Topic|Total Conversions|Total Cost|Average Cost Per Conversion|\n",
            "+-----+-----------------+----------+---------------------------+\n",
            "|Other|               23|    124.37|                   1.535556|\n",
            "+-----+-----------------+----------+---------------------------+\n",
            "\n"
          ]
        }
      ]
    },
    {
      "cell_type": "markdown",
      "source": [
        "## Verifying"
      ],
      "metadata": {
        "id": "_WAB-LsbVMTf"
      }
    },
    {
      "cell_type": "code",
      "source": [
        "auto_df.ai.verify(\"expect cost_per_conversion to be below $20\")"
      ],
      "metadata": {
        "colab": {
          "base_uri": "https://localhost:8080/"
        },
        "id": "ZUOXbC45QcNu",
        "outputId": "9fbec354-dfac-4309-c5b4-6df197c89749"
      },
      "execution_count": 29,
      "outputs": [
        {
          "output_type": "stream",
          "name": "stdout",
          "text": [
            "\u001b[92mINFO: \u001b[0mLLM Output:\n",
            "def cost_per_conversion_below_20(df) -> bool:\n",
            "    # Import necessary PySpark SQL functions\n",
            "    from pyspark.sql.functions import col\n",
            "\n",
            "    # Check if the maximum cost_per_conversion is below $20\n",
            "    max_cost_per_conversion = df.select(col(\"cost_per_conversion\")).rdd.max()[0]\n",
            "    if max_cost_per_conversion < 20:\n",
            "        return True\n",
            "    else:\n",
            "        return False\n",
            "\n",
            "result = cost_per_conversion_below_20(df)\n"
          ]
        },
        {
          "output_type": "stream",
          "name": "stderr",
          "text": [
            "INFO:spark_ai:LLM Output:\n",
            "def cost_per_conversion_below_20(df) -> bool:\n",
            "    # Import necessary PySpark SQL functions\n",
            "    from pyspark.sql.functions import col\n",
            "\n",
            "    # Check if the maximum cost_per_conversion is below $20\n",
            "    max_cost_per_conversion = df.select(col(\"cost_per_conversion\")).rdd.max()[0]\n",
            "    if max_cost_per_conversion < 20:\n",
            "        return True\n",
            "    else:\n",
            "        return False\n",
            "\n",
            "result = cost_per_conversion_below_20(df)\n"
          ]
        },
        {
          "output_type": "stream",
          "name": "stdout",
          "text": [
            "\u001b[92mINFO: \u001b[0mGenerated code:\n",
            "\u001b[34mdef\u001b[39;49;00m \u001b[32mcost_per_conversion_below_20\u001b[39;49;00m(df) -> \u001b[36mbool\u001b[39;49;00m:\u001b[37m\u001b[39;49;00m\n",
            "    \u001b[37m# Import necessary PySpark SQL functions\u001b[39;49;00m\u001b[37m\u001b[39;49;00m\n",
            "    \u001b[34mfrom\u001b[39;49;00m \u001b[04m\u001b[36mpyspark\u001b[39;49;00m\u001b[04m\u001b[36m.\u001b[39;49;00m\u001b[04m\u001b[36msql\u001b[39;49;00m\u001b[04m\u001b[36m.\u001b[39;49;00m\u001b[04m\u001b[36mfunctions\u001b[39;49;00m \u001b[34mimport\u001b[39;49;00m col\u001b[37m\u001b[39;49;00m\n",
            "\u001b[37m\u001b[39;49;00m\n",
            "    \u001b[37m# Check if the maximum cost_per_conversion is below $20\u001b[39;49;00m\u001b[37m\u001b[39;49;00m\n",
            "    max_cost_per_conversion = df.select(col(\u001b[33m\"\u001b[39;49;00m\u001b[33mcost_per_conversion\u001b[39;49;00m\u001b[33m\"\u001b[39;49;00m)).rdd.max()[\u001b[34m0\u001b[39;49;00m]\u001b[37m\u001b[39;49;00m\n",
            "    \u001b[34mif\u001b[39;49;00m max_cost_per_conversion < \u001b[34m20\u001b[39;49;00m:\u001b[37m\u001b[39;49;00m\n",
            "        \u001b[34mreturn\u001b[39;49;00m \u001b[34mTrue\u001b[39;49;00m\u001b[37m\u001b[39;49;00m\n",
            "    \u001b[34melse\u001b[39;49;00m:\u001b[37m\u001b[39;49;00m\n",
            "        \u001b[34mreturn\u001b[39;49;00m \u001b[34mFalse\u001b[39;49;00m\u001b[37m\u001b[39;49;00m\n",
            "\u001b[37m\u001b[39;49;00m\n",
            "result = cost_per_conversion_below_20(df)\u001b[37m\u001b[39;49;00m\n",
            "\n"
          ]
        },
        {
          "output_type": "stream",
          "name": "stderr",
          "text": [
            "INFO:spark_ai:Generated code:\n",
            "\u001b[34mdef\u001b[39;49;00m \u001b[32mcost_per_conversion_below_20\u001b[39;49;00m(df) -> \u001b[36mbool\u001b[39;49;00m:\u001b[37m\u001b[39;49;00m\n",
            "    \u001b[37m# Import necessary PySpark SQL functions\u001b[39;49;00m\u001b[37m\u001b[39;49;00m\n",
            "    \u001b[34mfrom\u001b[39;49;00m \u001b[04m\u001b[36mpyspark\u001b[39;49;00m\u001b[04m\u001b[36m.\u001b[39;49;00m\u001b[04m\u001b[36msql\u001b[39;49;00m\u001b[04m\u001b[36m.\u001b[39;49;00m\u001b[04m\u001b[36mfunctions\u001b[39;49;00m \u001b[34mimport\u001b[39;49;00m col\u001b[37m\u001b[39;49;00m\n",
            "\u001b[37m\u001b[39;49;00m\n",
            "    \u001b[37m# Check if the maximum cost_per_conversion is below $20\u001b[39;49;00m\u001b[37m\u001b[39;49;00m\n",
            "    max_cost_per_conversion = df.select(col(\u001b[33m\"\u001b[39;49;00m\u001b[33mcost_per_conversion\u001b[39;49;00m\u001b[33m\"\u001b[39;49;00m)).rdd.max()[\u001b[34m0\u001b[39;49;00m]\u001b[37m\u001b[39;49;00m\n",
            "    \u001b[34mif\u001b[39;49;00m max_cost_per_conversion < \u001b[34m20\u001b[39;49;00m:\u001b[37m\u001b[39;49;00m\n",
            "        \u001b[34mreturn\u001b[39;49;00m \u001b[34mTrue\u001b[39;49;00m\u001b[37m\u001b[39;49;00m\n",
            "    \u001b[34melse\u001b[39;49;00m:\u001b[37m\u001b[39;49;00m\n",
            "        \u001b[34mreturn\u001b[39;49;00m \u001b[34mFalse\u001b[39;49;00m\u001b[37m\u001b[39;49;00m\n",
            "\u001b[37m\u001b[39;49;00m\n",
            "result = cost_per_conversion_below_20(df)\u001b[37m\u001b[39;49;00m\n",
            "\n"
          ]
        },
        {
          "output_type": "stream",
          "name": "stdout",
          "text": [
            "\u001b[92mINFO: \u001b[0m\n",
            "Result: True\n"
          ]
        },
        {
          "output_type": "stream",
          "name": "stderr",
          "text": [
            "INFO:spark_ai:\n",
            "Result: True\n"
          ]
        },
        {
          "output_type": "execute_result",
          "data": {
            "text/plain": [
              "True"
            ]
          },
          "metadata": {},
          "execution_count": 29
        }
      ]
    },
    {
      "cell_type": "markdown",
      "source": [
        "## Visualization"
      ],
      "metadata": {
        "id": "QuSTJxLWVPWS"
      }
    },
    {
      "cell_type": "code",
      "source": [
        "auto_df.show(5)"
      ],
      "metadata": {
        "id": "sB-kt81TWmus"
      },
      "execution_count": null,
      "outputs": []
    },
    {
      "cell_type": "code",
      "source": [
        "auto_df.ai.plot(\"Plot a bar chart with matplotlib to show the impressions, conversions, cost and cost per conversion by landing page. impressions should be plot on right y axis while the other 3 on the left y axis\")"
      ],
      "metadata": {
        "colab": {
          "base_uri": "https://localhost:8080/",
          "height": 1000
        },
        "id": "RyIEfBI7T-O1",
        "outputId": "3ecfc1a7-8369-479c-8270-63adac169a27"
      },
      "execution_count": 34,
      "outputs": [
        {
          "output_type": "stream",
          "name": "stdout",
          "text": [
            "\u001b[92mINFO: \u001b[0mTo achieve the visualization of the DataFrame `df` using plotly as per the given requirements, follow the steps below. This includes aggregating the data in Spark, converting it to a Pandas DataFrame, and then plotting it using Plotly. Note that we're using Plotly for plotting as per the initial request, even though the purpose mentions matplotlib, assuming it's a typo given the context.\n",
            "\n",
            "First, ensure you have a Spark session running:\n",
            "\n",
            "\n",
            "```\n",
            "\u001b[34mfrom\u001b[39;49;00m \u001b[04m\u001b[36mpyspark\u001b[39;49;00m\u001b[04m\u001b[36m.\u001b[39;49;00m\u001b[04m\u001b[36msql\u001b[39;49;00m \u001b[34mimport\u001b[39;49;00m SparkSession\u001b[37m\u001b[39;49;00m\n",
            "\u001b[34mfrom\u001b[39;49;00m \u001b[04m\u001b[36mpyspark\u001b[39;49;00m\u001b[04m\u001b[36m.\u001b[39;49;00m\u001b[04m\u001b[36msql\u001b[39;49;00m \u001b[34mimport\u001b[39;49;00m functions \u001b[34mas\u001b[39;49;00m F\u001b[37m\u001b[39;49;00m\n",
            "\u001b[34mimport\u001b[39;49;00m \u001b[04m\u001b[36mpandas\u001b[39;49;00m \u001b[34mas\u001b[39;49;00m \u001b[04m\u001b[36mpd\u001b[39;49;00m\u001b[37m\u001b[39;49;00m\n",
            "\u001b[34mimport\u001b[39;49;00m \u001b[04m\u001b[36mplotly\u001b[39;49;00m\u001b[04m\u001b[36m.\u001b[39;49;00m\u001b[04m\u001b[36mgraph_objects\u001b[39;49;00m \u001b[34mas\u001b[39;49;00m \u001b[04m\u001b[36mgo\u001b[39;49;00m\u001b[37m\u001b[39;49;00m\n",
            "\u001b[34mfrom\u001b[39;49;00m \u001b[04m\u001b[36mplotly\u001b[39;49;00m\u001b[04m\u001b[36m.\u001b[39;49;00m\u001b[04m\u001b[36msubplots\u001b[39;49;00m \u001b[34mimport\u001b[39;49;00m make_subplots\u001b[37m\u001b[39;49;00m\n",
            "\u001b[37m\u001b[39;49;00m\n",
            "\u001b[37m# Start Spark session\u001b[39;49;00m\u001b[37m\u001b[39;49;00m\n",
            "spark = SparkSession.builder.getOrCreate()\u001b[37m\u001b[39;49;00m\n",
            "```\n",
            "\n",
            "Given the DataFrame `df`, we'll aggregate the data:\n",
            "\n",
            "\n",
            "```\n",
            "\u001b[37m# Aggregate data\u001b[39;49;00m\u001b[37m\u001b[39;49;00m\n",
            "df_agg = df.groupBy(\u001b[33m\"\u001b[39;49;00m\u001b[33mlanding_page\u001b[39;49;00m\u001b[33m\"\u001b[39;49;00m).agg(\u001b[37m\u001b[39;49;00m\n",
            "    F.sum(\u001b[33m\"\u001b[39;49;00m\u001b[33mimpressions\u001b[39;49;00m\u001b[33m\"\u001b[39;49;00m).alias(\u001b[33m\"\u001b[39;49;00m\u001b[33mtotal_impressions\u001b[39;49;00m\u001b[33m\"\u001b[39;49;00m),\u001b[37m\u001b[39;49;00m\n",
            "    F.sum(\u001b[33m\"\u001b[39;49;00m\u001b[33mconversions\u001b[39;49;00m\u001b[33m\"\u001b[39;49;00m).alias(\u001b[33m\"\u001b[39;49;00m\u001b[33mtotal_conversions\u001b[39;49;00m\u001b[33m\"\u001b[39;49;00m),\u001b[37m\u001b[39;49;00m\n",
            "    F.sum(\u001b[33m\"\u001b[39;49;00m\u001b[33mcost\u001b[39;49;00m\u001b[33m\"\u001b[39;49;00m).alias(\u001b[33m\"\u001b[39;49;00m\u001b[33mtotal_cost\u001b[39;49;00m\u001b[33m\"\u001b[39;49;00m),\u001b[37m\u001b[39;49;00m\n",
            "    (F.sum(\u001b[33m\"\u001b[39;49;00m\u001b[33mcost\u001b[39;49;00m\u001b[33m\"\u001b[39;49;00m) / F.sum(\u001b[33m\"\u001b[39;49;00m\u001b[33mconversions\u001b[39;49;00m\u001b[33m\"\u001b[39;49;00m)).alias(\u001b[33m\"\u001b[39;49;00m\u001b[33mavg_cost_per_conversion\u001b[39;49;00m\u001b[33m\"\u001b[39;49;00m)\u001b[37m\u001b[39;49;00m\n",
            ").orderBy(\u001b[33m\"\u001b[39;49;00m\u001b[33mlanding_page\u001b[39;49;00m\u001b[33m\"\u001b[39;49;00m)\u001b[37m\u001b[39;49;00m\n",
            "```\n",
            "\n",
            "Now, convert the aggregated Spark DataFrame to a Pandas DataFrame:\n",
            "\n",
            "\n",
            "```\n",
            "\u001b[37m# Convert to Pandas DataFrame\u001b[39;49;00m\u001b[37m\u001b[39;49;00m\n",
            "pdf = df_agg.toPandas()\u001b[37m\u001b[39;49;00m\n",
            "```\n",
            "\n",
            "Finally, plot the data using Plotly:\n",
            "\n",
            "\n",
            "```\n",
            "\u001b[37m# Create subplots with 2 y-axes\u001b[39;49;00m\u001b[37m\u001b[39;49;00m\n",
            "fig = make_subplots(specs=[[{\u001b[33m\"\u001b[39;49;00m\u001b[33msecondary_y\u001b[39;49;00m\u001b[33m\"\u001b[39;49;00m: \u001b[34mTrue\u001b[39;49;00m}]])\u001b[37m\u001b[39;49;00m\n",
            "\u001b[37m\u001b[39;49;00m\n",
            "\u001b[37m# Add bar charts for conversions, cost, and cost per conversion on the left y-axis\u001b[39;49;00m\u001b[37m\u001b[39;49;00m\n",
            "fig.add_trace(go.Bar(x=pdf[\u001b[33m'\u001b[39;49;00m\u001b[33mlanding_page\u001b[39;49;00m\u001b[33m'\u001b[39;49;00m], y=pdf[\u001b[33m'\u001b[39;49;00m\u001b[33mtotal_conversions\u001b[39;49;00m\u001b[33m'\u001b[39;49;00m], name=\u001b[33m'\u001b[39;49;00m\u001b[33mConversions\u001b[39;49;00m\u001b[33m'\u001b[39;49;00m), secondary_y=\u001b[34mFalse\u001b[39;49;00m)\u001b[37m\u001b[39;49;00m\n",
            "fig.add_trace(go.Bar(x=pdf[\u001b[33m'\u001b[39;49;00m\u001b[33mlanding_page\u001b[39;49;00m\u001b[33m'\u001b[39;49;00m], y=pdf[\u001b[33m'\u001b[39;49;00m\u001b[33mtotal_cost\u001b[39;49;00m\u001b[33m'\u001b[39;49;00m], name=\u001b[33m'\u001b[39;49;00m\u001b[33mCost\u001b[39;49;00m\u001b[33m'\u001b[39;49;00m), secondary_y=\u001b[34mFalse\u001b[39;49;00m)\u001b[37m\u001b[39;49;00m\n",
            "fig.add_trace(go.Bar(x=pdf[\u001b[33m'\u001b[39;49;00m\u001b[33mlanding_page\u001b[39;49;00m\u001b[33m'\u001b[39;49;00m], y=pdf[\u001b[33m'\u001b[39;49;00m\u001b[33mavg_cost_per_conversion\u001b[39;49;00m\u001b[33m'\u001b[39;49;00m], name=\u001b[33m'\u001b[39;49;00m\u001b[33mCost per Conversion\u001b[39;49;00m\u001b[33m'\u001b[39;49;00m), secondary_y=\u001b[34mFalse\u001b[39;49;00m)\u001b[37m\u001b[39;49;00m\n",
            "\u001b[37m\u001b[39;49;00m\n",
            "\u001b[37m# Add a line chart for impressions on the right y-axis\u001b[39;49;00m\u001b[37m\u001b[39;49;00m\n",
            "fig.add_trace(go.Scatter(x=pdf[\u001b[33m'\u001b[39;49;00m\u001b[33mlanding_page\u001b[39;49;00m\u001b[33m'\u001b[39;49;00m], y=pdf[\u001b[33m'\u001b[39;49;00m\u001b[33mtotal_impressions\u001b[39;49;00m\u001b[33m'\u001b[39;49;00m], name=\u001b[33m'\u001b[39;49;00m\u001b[33mImpressions\u001b[39;49;00m\u001b[33m'\u001b[39;49;00m, mode=\u001b[33m'\u001b[39;49;00m\u001b[33mlines+markers\u001b[39;49;00m\u001b[33m'\u001b[39;49;00m), secondary_y=\u001b[34mTrue\u001b[39;49;00m)\u001b[37m\u001b[39;49;00m\n",
            "\u001b[37m\u001b[39;49;00m\n",
            "\u001b[37m# Set x-axis title\u001b[39;49;00m\u001b[37m\u001b[39;49;00m\n",
            "fig.update_xaxes(title_text=\u001b[33m\"\u001b[39;49;00m\u001b[33mLanding Page\u001b[39;49;00m\u001b[33m\"\u001b[39;49;00m)\u001b[37m\u001b[39;49;00m\n",
            "\u001b[37m\u001b[39;49;00m\n",
            "\u001b[37m# Set y-axes titles\u001b[39;49;00m\u001b[37m\u001b[39;49;00m\n",
            "fig.update_yaxes(title_text=\u001b[33m\"\u001b[39;49;00m\u001b[33mConversions, Cost, Cost per Conversion\u001b[39;49;00m\u001b[33m\"\u001b[39;49;00m, secondary_y=\u001b[34mFalse\u001b[39;49;00m)\u001b[37m\u001b[39;49;00m\n",
            "fig.update_yaxes(title_text=\u001b[33m\"\u001b[39;49;00m\u001b[33mImpressions\u001b[39;49;00m\u001b[33m\"\u001b[39;49;00m, secondary_y=\u001b[34mTrue\u001b[39;49;00m)\u001b[37m\u001b[39;49;00m\n",
            "\u001b[37m\u001b[39;49;00m\n",
            "\u001b[37m# Set plot title\u001b[39;49;00m\u001b[37m\u001b[39;49;00m\n",
            "fig.update_layout(title_text=\u001b[33m\"\u001b[39;49;00m\u001b[33mPerformance by Landing Page\u001b[39;49;00m\u001b[33m\"\u001b[39;49;00m)\u001b[37m\u001b[39;49;00m\n",
            "\u001b[37m\u001b[39;49;00m\n",
            "\u001b[37m# Show plot\u001b[39;49;00m\u001b[37m\u001b[39;49;00m\n",
            "fig.show()\u001b[37m\u001b[39;49;00m\n",
            "```\n",
            "\n",
            "This code snippet aggregates the data by `landing_page` in Spark, calculates the total impressions, conversions, total cost, and average cost per conversion, then visualizes these metrics using Plotly. The bar chart displays conversions, cost, and cost per conversion on the left y-axis, while a line chart for impressions is plotted on the right y-axis, all categorized by `landing_page`.\n"
          ]
        },
        {
          "output_type": "stream",
          "name": "stderr",
          "text": [
            "INFO:spark_ai:To achieve the visualization of the DataFrame `df` using plotly as per the given requirements, follow the steps below. This includes aggregating the data in Spark, converting it to a Pandas DataFrame, and then plotting it using Plotly. Note that we're using Plotly for plotting as per the initial request, even though the purpose mentions matplotlib, assuming it's a typo given the context.\n",
            "\n",
            "First, ensure you have a Spark session running:\n",
            "\n",
            "\n",
            "```\n",
            "\u001b[34mfrom\u001b[39;49;00m \u001b[04m\u001b[36mpyspark\u001b[39;49;00m\u001b[04m\u001b[36m.\u001b[39;49;00m\u001b[04m\u001b[36msql\u001b[39;49;00m \u001b[34mimport\u001b[39;49;00m SparkSession\u001b[37m\u001b[39;49;00m\n",
            "\u001b[34mfrom\u001b[39;49;00m \u001b[04m\u001b[36mpyspark\u001b[39;49;00m\u001b[04m\u001b[36m.\u001b[39;49;00m\u001b[04m\u001b[36msql\u001b[39;49;00m \u001b[34mimport\u001b[39;49;00m functions \u001b[34mas\u001b[39;49;00m F\u001b[37m\u001b[39;49;00m\n",
            "\u001b[34mimport\u001b[39;49;00m \u001b[04m\u001b[36mpandas\u001b[39;49;00m \u001b[34mas\u001b[39;49;00m \u001b[04m\u001b[36mpd\u001b[39;49;00m\u001b[37m\u001b[39;49;00m\n",
            "\u001b[34mimport\u001b[39;49;00m \u001b[04m\u001b[36mplotly\u001b[39;49;00m\u001b[04m\u001b[36m.\u001b[39;49;00m\u001b[04m\u001b[36mgraph_objects\u001b[39;49;00m \u001b[34mas\u001b[39;49;00m \u001b[04m\u001b[36mgo\u001b[39;49;00m\u001b[37m\u001b[39;49;00m\n",
            "\u001b[34mfrom\u001b[39;49;00m \u001b[04m\u001b[36mplotly\u001b[39;49;00m\u001b[04m\u001b[36m.\u001b[39;49;00m\u001b[04m\u001b[36msubplots\u001b[39;49;00m \u001b[34mimport\u001b[39;49;00m make_subplots\u001b[37m\u001b[39;49;00m\n",
            "\u001b[37m\u001b[39;49;00m\n",
            "\u001b[37m# Start Spark session\u001b[39;49;00m\u001b[37m\u001b[39;49;00m\n",
            "spark = SparkSession.builder.getOrCreate()\u001b[37m\u001b[39;49;00m\n",
            "```\n",
            "\n",
            "Given the DataFrame `df`, we'll aggregate the data:\n",
            "\n",
            "\n",
            "```\n",
            "\u001b[37m# Aggregate data\u001b[39;49;00m\u001b[37m\u001b[39;49;00m\n",
            "df_agg = df.groupBy(\u001b[33m\"\u001b[39;49;00m\u001b[33mlanding_page\u001b[39;49;00m\u001b[33m\"\u001b[39;49;00m).agg(\u001b[37m\u001b[39;49;00m\n",
            "    F.sum(\u001b[33m\"\u001b[39;49;00m\u001b[33mimpressions\u001b[39;49;00m\u001b[33m\"\u001b[39;49;00m).alias(\u001b[33m\"\u001b[39;49;00m\u001b[33mtotal_impressions\u001b[39;49;00m\u001b[33m\"\u001b[39;49;00m),\u001b[37m\u001b[39;49;00m\n",
            "    F.sum(\u001b[33m\"\u001b[39;49;00m\u001b[33mconversions\u001b[39;49;00m\u001b[33m\"\u001b[39;49;00m).alias(\u001b[33m\"\u001b[39;49;00m\u001b[33mtotal_conversions\u001b[39;49;00m\u001b[33m\"\u001b[39;49;00m),\u001b[37m\u001b[39;49;00m\n",
            "    F.sum(\u001b[33m\"\u001b[39;49;00m\u001b[33mcost\u001b[39;49;00m\u001b[33m\"\u001b[39;49;00m).alias(\u001b[33m\"\u001b[39;49;00m\u001b[33mtotal_cost\u001b[39;49;00m\u001b[33m\"\u001b[39;49;00m),\u001b[37m\u001b[39;49;00m\n",
            "    (F.sum(\u001b[33m\"\u001b[39;49;00m\u001b[33mcost\u001b[39;49;00m\u001b[33m\"\u001b[39;49;00m) / F.sum(\u001b[33m\"\u001b[39;49;00m\u001b[33mconversions\u001b[39;49;00m\u001b[33m\"\u001b[39;49;00m)).alias(\u001b[33m\"\u001b[39;49;00m\u001b[33mavg_cost_per_conversion\u001b[39;49;00m\u001b[33m\"\u001b[39;49;00m)\u001b[37m\u001b[39;49;00m\n",
            ").orderBy(\u001b[33m\"\u001b[39;49;00m\u001b[33mlanding_page\u001b[39;49;00m\u001b[33m\"\u001b[39;49;00m)\u001b[37m\u001b[39;49;00m\n",
            "```\n",
            "\n",
            "Now, convert the aggregated Spark DataFrame to a Pandas DataFrame:\n",
            "\n",
            "\n",
            "```\n",
            "\u001b[37m# Convert to Pandas DataFrame\u001b[39;49;00m\u001b[37m\u001b[39;49;00m\n",
            "pdf = df_agg.toPandas()\u001b[37m\u001b[39;49;00m\n",
            "```\n",
            "\n",
            "Finally, plot the data using Plotly:\n",
            "\n",
            "\n",
            "```\n",
            "\u001b[37m# Create subplots with 2 y-axes\u001b[39;49;00m\u001b[37m\u001b[39;49;00m\n",
            "fig = make_subplots(specs=[[{\u001b[33m\"\u001b[39;49;00m\u001b[33msecondary_y\u001b[39;49;00m\u001b[33m\"\u001b[39;49;00m: \u001b[34mTrue\u001b[39;49;00m}]])\u001b[37m\u001b[39;49;00m\n",
            "\u001b[37m\u001b[39;49;00m\n",
            "\u001b[37m# Add bar charts for conversions, cost, and cost per conversion on the left y-axis\u001b[39;49;00m\u001b[37m\u001b[39;49;00m\n",
            "fig.add_trace(go.Bar(x=pdf[\u001b[33m'\u001b[39;49;00m\u001b[33mlanding_page\u001b[39;49;00m\u001b[33m'\u001b[39;49;00m], y=pdf[\u001b[33m'\u001b[39;49;00m\u001b[33mtotal_conversions\u001b[39;49;00m\u001b[33m'\u001b[39;49;00m], name=\u001b[33m'\u001b[39;49;00m\u001b[33mConversions\u001b[39;49;00m\u001b[33m'\u001b[39;49;00m), secondary_y=\u001b[34mFalse\u001b[39;49;00m)\u001b[37m\u001b[39;49;00m\n",
            "fig.add_trace(go.Bar(x=pdf[\u001b[33m'\u001b[39;49;00m\u001b[33mlanding_page\u001b[39;49;00m\u001b[33m'\u001b[39;49;00m], y=pdf[\u001b[33m'\u001b[39;49;00m\u001b[33mtotal_cost\u001b[39;49;00m\u001b[33m'\u001b[39;49;00m], name=\u001b[33m'\u001b[39;49;00m\u001b[33mCost\u001b[39;49;00m\u001b[33m'\u001b[39;49;00m), secondary_y=\u001b[34mFalse\u001b[39;49;00m)\u001b[37m\u001b[39;49;00m\n",
            "fig.add_trace(go.Bar(x=pdf[\u001b[33m'\u001b[39;49;00m\u001b[33mlanding_page\u001b[39;49;00m\u001b[33m'\u001b[39;49;00m], y=pdf[\u001b[33m'\u001b[39;49;00m\u001b[33mavg_cost_per_conversion\u001b[39;49;00m\u001b[33m'\u001b[39;49;00m], name=\u001b[33m'\u001b[39;49;00m\u001b[33mCost per Conversion\u001b[39;49;00m\u001b[33m'\u001b[39;49;00m), secondary_y=\u001b[34mFalse\u001b[39;49;00m)\u001b[37m\u001b[39;49;00m\n",
            "\u001b[37m\u001b[39;49;00m\n",
            "\u001b[37m# Add a line chart for impressions on the right y-axis\u001b[39;49;00m\u001b[37m\u001b[39;49;00m\n",
            "fig.add_trace(go.Scatter(x=pdf[\u001b[33m'\u001b[39;49;00m\u001b[33mlanding_page\u001b[39;49;00m\u001b[33m'\u001b[39;49;00m], y=pdf[\u001b[33m'\u001b[39;49;00m\u001b[33mtotal_impressions\u001b[39;49;00m\u001b[33m'\u001b[39;49;00m], name=\u001b[33m'\u001b[39;49;00m\u001b[33mImpressions\u001b[39;49;00m\u001b[33m'\u001b[39;49;00m, mode=\u001b[33m'\u001b[39;49;00m\u001b[33mlines+markers\u001b[39;49;00m\u001b[33m'\u001b[39;49;00m), secondary_y=\u001b[34mTrue\u001b[39;49;00m)\u001b[37m\u001b[39;49;00m\n",
            "\u001b[37m\u001b[39;49;00m\n",
            "\u001b[37m# Set x-axis title\u001b[39;49;00m\u001b[37m\u001b[39;49;00m\n",
            "fig.update_xaxes(title_text=\u001b[33m\"\u001b[39;49;00m\u001b[33mLanding Page\u001b[39;49;00m\u001b[33m\"\u001b[39;49;00m)\u001b[37m\u001b[39;49;00m\n",
            "\u001b[37m\u001b[39;49;00m\n",
            "\u001b[37m# Set y-axes titles\u001b[39;49;00m\u001b[37m\u001b[39;49;00m\n",
            "fig.update_yaxes(title_text=\u001b[33m\"\u001b[39;49;00m\u001b[33mConversions, Cost, Cost per Conversion\u001b[39;49;00m\u001b[33m\"\u001b[39;49;00m, secondary_y=\u001b[34mFalse\u001b[39;49;00m)\u001b[37m\u001b[39;49;00m\n",
            "fig.update_yaxes(title_text=\u001b[33m\"\u001b[39;49;00m\u001b[33mImpressions\u001b[39;49;00m\u001b[33m\"\u001b[39;49;00m, secondary_y=\u001b[34mTrue\u001b[39;49;00m)\u001b[37m\u001b[39;49;00m\n",
            "\u001b[37m\u001b[39;49;00m\n",
            "\u001b[37m# Set plot title\u001b[39;49;00m\u001b[37m\u001b[39;49;00m\n",
            "fig.update_layout(title_text=\u001b[33m\"\u001b[39;49;00m\u001b[33mPerformance by Landing Page\u001b[39;49;00m\u001b[33m\"\u001b[39;49;00m)\u001b[37m\u001b[39;49;00m\n",
            "\u001b[37m\u001b[39;49;00m\n",
            "\u001b[37m# Show plot\u001b[39;49;00m\u001b[37m\u001b[39;49;00m\n",
            "fig.show()\u001b[37m\u001b[39;49;00m\n",
            "```\n",
            "\n",
            "This code snippet aggregates the data by `landing_page` in Spark, calculates the total impressions, conversions, total cost, and average cost per conversion, then visualizes these metrics using Plotly. The bar chart displays conversions, cost, and cost per conversion on the left y-axis, while a line chart for impressions is plotted on the right y-axis, all categorized by `landing_page`.\n"
          ]
        },
        {
          "output_type": "display_data",
          "data": {
            "text/html": [
              "<html>\n",
              "<head><meta charset=\"utf-8\" /></head>\n",
              "<body>\n",
              "    <div>            <script src=\"https://cdnjs.cloudflare.com/ajax/libs/mathjax/2.7.5/MathJax.js?config=TeX-AMS-MML_SVG\"></script><script type=\"text/javascript\">if (window.MathJax && window.MathJax.Hub && window.MathJax.Hub.Config) {window.MathJax.Hub.Config({SVG: {font: \"STIX-Web\"}});}</script>                <script type=\"text/javascript\">window.PlotlyConfig = {MathJaxConfig: 'local'};</script>\n",
              "        <script charset=\"utf-8\" src=\"https://cdn.plot.ly/plotly-2.24.1.min.js\"></script>                <div id=\"cf1834c6-c3b5-492b-9cdf-27b7e3063a3f\" class=\"plotly-graph-div\" style=\"height:525px; width:100%;\"></div>            <script type=\"text/javascript\">                                    window.PLOTLYENV=window.PLOTLYENV || {};                                    if (document.getElementById(\"cf1834c6-c3b5-492b-9cdf-27b7e3063a3f\")) {                    Plotly.newPlot(                        \"cf1834c6-c3b5-492b-9cdf-27b7e3063a3f\",                        [{\"name\":\"Conversions\",\"x\":[\"https:\\u002f\\u002fcreately.com\\u002f\",\"https:\\u002f\\u002fcreately.com\\u002far\\u002flp\\u002f%D8%A8%D8%B1%D9%86%D8%A7%D9%85%D8%AC-%D8%A5%D9%86%D8%B4%D8%A7%D8%A1-%D8%A7%D9%84%D9%85%D8%AE%D8%B7%D8%B7%D8%A7%D8%AA-%D8%A7%D9%84%D8%AA%D9%86%D8%B8%D9%8A%D9%85%D9%8A%D8%A9\\u002f\"],\"y\":[23,0],\"type\":\"bar\",\"xaxis\":\"x\",\"yaxis\":\"y\"},{\"name\":\"Cost\",\"x\":[\"https:\\u002f\\u002fcreately.com\\u002f\",\"https:\\u002f\\u002fcreately.com\\u002far\\u002flp\\u002f%D8%A8%D8%B1%D9%86%D8%A7%D9%85%D8%AC-%D8%A5%D9%86%D8%B4%D8%A7%D8%A1-%D8%A7%D9%84%D9%85%D8%AE%D8%B7%D8%B7%D8%A7%D8%AA-%D8%A7%D9%84%D8%AA%D9%86%D8%B8%D9%8A%D9%85%D9%8A%D8%A9\\u002f\"],\"y\":[112.92,11.45],\"type\":\"bar\",\"xaxis\":\"x\",\"yaxis\":\"y\"},{\"name\":\"Cost per Conversion\",\"x\":[\"https:\\u002f\\u002fcreately.com\\u002f\",\"https:\\u002f\\u002fcreately.com\\u002far\\u002flp\\u002f%D8%A8%D8%B1%D9%86%D8%A7%D9%85%D8%AC-%D8%A5%D9%86%D8%B4%D8%A7%D8%A1-%D8%A7%D9%84%D9%85%D8%AE%D8%B7%D8%B7%D8%A7%D8%AA-%D8%A7%D9%84%D8%AA%D9%86%D8%B8%D9%8A%D9%85%D9%8A%D8%A9\\u002f\"],\"y\":[4.909565217391305,null],\"type\":\"bar\",\"xaxis\":\"x\",\"yaxis\":\"y\"},{\"mode\":\"lines+markers\",\"name\":\"Impressions\",\"x\":[\"https:\\u002f\\u002fcreately.com\\u002f\",\"https:\\u002f\\u002fcreately.com\\u002far\\u002flp\\u002f%D8%A8%D8%B1%D9%86%D8%A7%D9%85%D8%AC-%D8%A5%D9%86%D8%B4%D8%A7%D8%A1-%D8%A7%D9%84%D9%85%D8%AE%D8%B7%D8%B7%D8%A7%D8%AA-%D8%A7%D9%84%D8%AA%D9%86%D8%B8%D9%8A%D9%85%D9%8A%D8%A9\\u002f\"],\"y\":[3584,361],\"type\":\"scatter\",\"xaxis\":\"x\",\"yaxis\":\"y2\"}],                        {\"template\":{\"data\":{\"histogram2dcontour\":[{\"type\":\"histogram2dcontour\",\"colorbar\":{\"outlinewidth\":0,\"ticks\":\"\"},\"colorscale\":[[0.0,\"#0d0887\"],[0.1111111111111111,\"#46039f\"],[0.2222222222222222,\"#7201a8\"],[0.3333333333333333,\"#9c179e\"],[0.4444444444444444,\"#bd3786\"],[0.5555555555555556,\"#d8576b\"],[0.6666666666666666,\"#ed7953\"],[0.7777777777777778,\"#fb9f3a\"],[0.8888888888888888,\"#fdca26\"],[1.0,\"#f0f921\"]]}],\"choropleth\":[{\"type\":\"choropleth\",\"colorbar\":{\"outlinewidth\":0,\"ticks\":\"\"}}],\"histogram2d\":[{\"type\":\"histogram2d\",\"colorbar\":{\"outlinewidth\":0,\"ticks\":\"\"},\"colorscale\":[[0.0,\"#0d0887\"],[0.1111111111111111,\"#46039f\"],[0.2222222222222222,\"#7201a8\"],[0.3333333333333333,\"#9c179e\"],[0.4444444444444444,\"#bd3786\"],[0.5555555555555556,\"#d8576b\"],[0.6666666666666666,\"#ed7953\"],[0.7777777777777778,\"#fb9f3a\"],[0.8888888888888888,\"#fdca26\"],[1.0,\"#f0f921\"]]}],\"heatmap\":[{\"type\":\"heatmap\",\"colorbar\":{\"outlinewidth\":0,\"ticks\":\"\"},\"colorscale\":[[0.0,\"#0d0887\"],[0.1111111111111111,\"#46039f\"],[0.2222222222222222,\"#7201a8\"],[0.3333333333333333,\"#9c179e\"],[0.4444444444444444,\"#bd3786\"],[0.5555555555555556,\"#d8576b\"],[0.6666666666666666,\"#ed7953\"],[0.7777777777777778,\"#fb9f3a\"],[0.8888888888888888,\"#fdca26\"],[1.0,\"#f0f921\"]]}],\"heatmapgl\":[{\"type\":\"heatmapgl\",\"colorbar\":{\"outlinewidth\":0,\"ticks\":\"\"},\"colorscale\":[[0.0,\"#0d0887\"],[0.1111111111111111,\"#46039f\"],[0.2222222222222222,\"#7201a8\"],[0.3333333333333333,\"#9c179e\"],[0.4444444444444444,\"#bd3786\"],[0.5555555555555556,\"#d8576b\"],[0.6666666666666666,\"#ed7953\"],[0.7777777777777778,\"#fb9f3a\"],[0.8888888888888888,\"#fdca26\"],[1.0,\"#f0f921\"]]}],\"contourcarpet\":[{\"type\":\"contourcarpet\",\"colorbar\":{\"outlinewidth\":0,\"ticks\":\"\"}}],\"contour\":[{\"type\":\"contour\",\"colorbar\":{\"outlinewidth\":0,\"ticks\":\"\"},\"colorscale\":[[0.0,\"#0d0887\"],[0.1111111111111111,\"#46039f\"],[0.2222222222222222,\"#7201a8\"],[0.3333333333333333,\"#9c179e\"],[0.4444444444444444,\"#bd3786\"],[0.5555555555555556,\"#d8576b\"],[0.6666666666666666,\"#ed7953\"],[0.7777777777777778,\"#fb9f3a\"],[0.8888888888888888,\"#fdca26\"],[1.0,\"#f0f921\"]]}],\"surface\":[{\"type\":\"surface\",\"colorbar\":{\"outlinewidth\":0,\"ticks\":\"\"},\"colorscale\":[[0.0,\"#0d0887\"],[0.1111111111111111,\"#46039f\"],[0.2222222222222222,\"#7201a8\"],[0.3333333333333333,\"#9c179e\"],[0.4444444444444444,\"#bd3786\"],[0.5555555555555556,\"#d8576b\"],[0.6666666666666666,\"#ed7953\"],[0.7777777777777778,\"#fb9f3a\"],[0.8888888888888888,\"#fdca26\"],[1.0,\"#f0f921\"]]}],\"mesh3d\":[{\"type\":\"mesh3d\",\"colorbar\":{\"outlinewidth\":0,\"ticks\":\"\"}}],\"scatter\":[{\"fillpattern\":{\"fillmode\":\"overlay\",\"size\":10,\"solidity\":0.2},\"type\":\"scatter\"}],\"parcoords\":[{\"type\":\"parcoords\",\"line\":{\"colorbar\":{\"outlinewidth\":0,\"ticks\":\"\"}}}],\"scatterpolargl\":[{\"type\":\"scatterpolargl\",\"marker\":{\"colorbar\":{\"outlinewidth\":0,\"ticks\":\"\"}}}],\"bar\":[{\"error_x\":{\"color\":\"#2a3f5f\"},\"error_y\":{\"color\":\"#2a3f5f\"},\"marker\":{\"line\":{\"color\":\"#E5ECF6\",\"width\":0.5},\"pattern\":{\"fillmode\":\"overlay\",\"size\":10,\"solidity\":0.2}},\"type\":\"bar\"}],\"scattergeo\":[{\"type\":\"scattergeo\",\"marker\":{\"colorbar\":{\"outlinewidth\":0,\"ticks\":\"\"}}}],\"scatterpolar\":[{\"type\":\"scatterpolar\",\"marker\":{\"colorbar\":{\"outlinewidth\":0,\"ticks\":\"\"}}}],\"histogram\":[{\"marker\":{\"pattern\":{\"fillmode\":\"overlay\",\"size\":10,\"solidity\":0.2}},\"type\":\"histogram\"}],\"scattergl\":[{\"type\":\"scattergl\",\"marker\":{\"colorbar\":{\"outlinewidth\":0,\"ticks\":\"\"}}}],\"scatter3d\":[{\"type\":\"scatter3d\",\"line\":{\"colorbar\":{\"outlinewidth\":0,\"ticks\":\"\"}},\"marker\":{\"colorbar\":{\"outlinewidth\":0,\"ticks\":\"\"}}}],\"scattermapbox\":[{\"type\":\"scattermapbox\",\"marker\":{\"colorbar\":{\"outlinewidth\":0,\"ticks\":\"\"}}}],\"scatterternary\":[{\"type\":\"scatterternary\",\"marker\":{\"colorbar\":{\"outlinewidth\":0,\"ticks\":\"\"}}}],\"scattercarpet\":[{\"type\":\"scattercarpet\",\"marker\":{\"colorbar\":{\"outlinewidth\":0,\"ticks\":\"\"}}}],\"carpet\":[{\"aaxis\":{\"endlinecolor\":\"#2a3f5f\",\"gridcolor\":\"white\",\"linecolor\":\"white\",\"minorgridcolor\":\"white\",\"startlinecolor\":\"#2a3f5f\"},\"baxis\":{\"endlinecolor\":\"#2a3f5f\",\"gridcolor\":\"white\",\"linecolor\":\"white\",\"minorgridcolor\":\"white\",\"startlinecolor\":\"#2a3f5f\"},\"type\":\"carpet\"}],\"table\":[{\"cells\":{\"fill\":{\"color\":\"#EBF0F8\"},\"line\":{\"color\":\"white\"}},\"header\":{\"fill\":{\"color\":\"#C8D4E3\"},\"line\":{\"color\":\"white\"}},\"type\":\"table\"}],\"barpolar\":[{\"marker\":{\"line\":{\"color\":\"#E5ECF6\",\"width\":0.5},\"pattern\":{\"fillmode\":\"overlay\",\"size\":10,\"solidity\":0.2}},\"type\":\"barpolar\"}],\"pie\":[{\"automargin\":true,\"type\":\"pie\"}]},\"layout\":{\"autotypenumbers\":\"strict\",\"colorway\":[\"#636efa\",\"#EF553B\",\"#00cc96\",\"#ab63fa\",\"#FFA15A\",\"#19d3f3\",\"#FF6692\",\"#B6E880\",\"#FF97FF\",\"#FECB52\"],\"font\":{\"color\":\"#2a3f5f\"},\"hovermode\":\"closest\",\"hoverlabel\":{\"align\":\"left\"},\"paper_bgcolor\":\"white\",\"plot_bgcolor\":\"#E5ECF6\",\"polar\":{\"bgcolor\":\"#E5ECF6\",\"angularaxis\":{\"gridcolor\":\"white\",\"linecolor\":\"white\",\"ticks\":\"\"},\"radialaxis\":{\"gridcolor\":\"white\",\"linecolor\":\"white\",\"ticks\":\"\"}},\"ternary\":{\"bgcolor\":\"#E5ECF6\",\"aaxis\":{\"gridcolor\":\"white\",\"linecolor\":\"white\",\"ticks\":\"\"},\"baxis\":{\"gridcolor\":\"white\",\"linecolor\":\"white\",\"ticks\":\"\"},\"caxis\":{\"gridcolor\":\"white\",\"linecolor\":\"white\",\"ticks\":\"\"}},\"coloraxis\":{\"colorbar\":{\"outlinewidth\":0,\"ticks\":\"\"}},\"colorscale\":{\"sequential\":[[0.0,\"#0d0887\"],[0.1111111111111111,\"#46039f\"],[0.2222222222222222,\"#7201a8\"],[0.3333333333333333,\"#9c179e\"],[0.4444444444444444,\"#bd3786\"],[0.5555555555555556,\"#d8576b\"],[0.6666666666666666,\"#ed7953\"],[0.7777777777777778,\"#fb9f3a\"],[0.8888888888888888,\"#fdca26\"],[1.0,\"#f0f921\"]],\"sequentialminus\":[[0.0,\"#0d0887\"],[0.1111111111111111,\"#46039f\"],[0.2222222222222222,\"#7201a8\"],[0.3333333333333333,\"#9c179e\"],[0.4444444444444444,\"#bd3786\"],[0.5555555555555556,\"#d8576b\"],[0.6666666666666666,\"#ed7953\"],[0.7777777777777778,\"#fb9f3a\"],[0.8888888888888888,\"#fdca26\"],[1.0,\"#f0f921\"]],\"diverging\":[[0,\"#8e0152\"],[0.1,\"#c51b7d\"],[0.2,\"#de77ae\"],[0.3,\"#f1b6da\"],[0.4,\"#fde0ef\"],[0.5,\"#f7f7f7\"],[0.6,\"#e6f5d0\"],[0.7,\"#b8e186\"],[0.8,\"#7fbc41\"],[0.9,\"#4d9221\"],[1,\"#276419\"]]},\"xaxis\":{\"gridcolor\":\"white\",\"linecolor\":\"white\",\"ticks\":\"\",\"title\":{\"standoff\":15},\"zerolinecolor\":\"white\",\"automargin\":true,\"zerolinewidth\":2},\"yaxis\":{\"gridcolor\":\"white\",\"linecolor\":\"white\",\"ticks\":\"\",\"title\":{\"standoff\":15},\"zerolinecolor\":\"white\",\"automargin\":true,\"zerolinewidth\":2},\"scene\":{\"xaxis\":{\"backgroundcolor\":\"#E5ECF6\",\"gridcolor\":\"white\",\"linecolor\":\"white\",\"showbackground\":true,\"ticks\":\"\",\"zerolinecolor\":\"white\",\"gridwidth\":2},\"yaxis\":{\"backgroundcolor\":\"#E5ECF6\",\"gridcolor\":\"white\",\"linecolor\":\"white\",\"showbackground\":true,\"ticks\":\"\",\"zerolinecolor\":\"white\",\"gridwidth\":2},\"zaxis\":{\"backgroundcolor\":\"#E5ECF6\",\"gridcolor\":\"white\",\"linecolor\":\"white\",\"showbackground\":true,\"ticks\":\"\",\"zerolinecolor\":\"white\",\"gridwidth\":2}},\"shapedefaults\":{\"line\":{\"color\":\"#2a3f5f\"}},\"annotationdefaults\":{\"arrowcolor\":\"#2a3f5f\",\"arrowhead\":0,\"arrowwidth\":1},\"geo\":{\"bgcolor\":\"white\",\"landcolor\":\"#E5ECF6\",\"subunitcolor\":\"white\",\"showland\":true,\"showlakes\":true,\"lakecolor\":\"white\"},\"title\":{\"x\":0.05},\"mapbox\":{\"style\":\"light\"}}},\"xaxis\":{\"anchor\":\"y\",\"domain\":[0.0,0.94],\"title\":{\"text\":\"Landing Page\"}},\"yaxis\":{\"anchor\":\"x\",\"domain\":[0.0,1.0],\"title\":{\"text\":\"Conversions, Cost, Cost per Conversion\"}},\"yaxis2\":{\"anchor\":\"x\",\"overlaying\":\"y\",\"side\":\"right\",\"title\":{\"text\":\"Impressions\"}},\"title\":{\"text\":\"Performance by Landing Page\"}},                        {\"responsive\": true}                    ).then(function(){\n",
              "                            \n",
              "var gd = document.getElementById('cf1834c6-c3b5-492b-9cdf-27b7e3063a3f');\n",
              "var x = new MutationObserver(function (mutations, observer) {{\n",
              "        var display = window.getComputedStyle(gd).display;\n",
              "        if (!display || display === 'none') {{\n",
              "            console.log([gd, 'removed!']);\n",
              "            Plotly.purge(gd);\n",
              "            observer.disconnect();\n",
              "        }}\n",
              "}});\n",
              "\n",
              "// Listen for the removal of the full notebook cells\n",
              "var notebookContainer = gd.closest('#notebook-container');\n",
              "if (notebookContainer) {{\n",
              "    x.observe(notebookContainer, {childList: true});\n",
              "}}\n",
              "\n",
              "// Listen for the clearing of the current output cell\n",
              "var outputEl = gd.closest('.output');\n",
              "if (outputEl) {{\n",
              "    x.observe(outputEl, {childList: true});\n",
              "}}\n",
              "\n",
              "                        })                };                            </script>        </div>\n",
              "</body>\n",
              "</html>"
            ]
          },
          "metadata": {}
        },
        {
          "output_type": "execute_result",
          "data": {
            "text/plain": [
              "'from pyspark.sql import SparkSession\\nfrom pyspark.sql import functions as F\\nimport pandas as pd\\nimport plotly.graph_objects as go\\nfrom plotly.subplots import make_subplots\\n\\n# Start Spark session\\nspark = SparkSession.builder.getOrCreate()\\n# Aggregate data\\ndf_agg = df.groupBy(\"landing_page\").agg(\\n    F.sum(\"impressions\").alias(\"total_impressions\"),\\n    F.sum(\"conversions\").alias(\"total_conversions\"),\\n    F.sum(\"cost\").alias(\"total_cost\"),\\n    (F.sum(\"cost\") / F.sum(\"conversions\")).alias(\"avg_cost_per_conversion\")\\n).orderBy(\"landing_page\")\\n# Convert to Pandas DataFrame\\npdf = df_agg.toPandas()\\n# Create subplots with 2 y-axes\\nfig = make_subplots(specs=[[{\"secondary_y\": True}]])\\n\\n# Add bar charts for conversions, cost, and cost per conversion on the left y-axis\\nfig.add_trace(go.Bar(x=pdf[\\'landing_page\\'], y=pdf[\\'total_conversions\\'], name=\\'Conversions\\'), secondary_y=False)\\nfig.add_trace(go.Bar(x=pdf[\\'landing_page\\'], y=pdf[\\'total_cost\\'], name=\\'Cost\\'), secondary_y=False)\\nfig.add_trace(go.Bar(x=pdf[\\'landing_page\\'], y=pdf[\\'avg_cost_per_conversion\\'], name=\\'Cost per Conversion\\'), secondary_y=False)\\n\\n# Add a line chart for impressions on the right y-axis\\nfig.add_trace(go.Scatter(x=pdf[\\'landing_page\\'], y=pdf[\\'total_impressions\\'], name=\\'Impressions\\', mode=\\'lines+markers\\'), secondary_y=True)\\n\\n# Set x-axis title\\nfig.update_xaxes(title_text=\"Landing Page\")\\n\\n# Set y-axes titles\\nfig.update_yaxes(title_text=\"Conversions, Cost, Cost per Conversion\", secondary_y=False)\\nfig.update_yaxes(title_text=\"Impressions\", secondary_y=True)\\n\\n# Set plot title\\nfig.update_layout(title_text=\"Performance by Landing Page\")\\n\\n# Show plot\\nfig.show()'"
            ],
            "application/vnd.google.colaboratory.intrinsic+json": {
              "type": "string"
            }
          },
          "metadata": {},
          "execution_count": 34
        }
      ]
    }
  ]
}